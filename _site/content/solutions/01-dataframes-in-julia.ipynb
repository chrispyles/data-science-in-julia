{
 "cells": [
  {
   "cell_type": "code",
   "execution_count": 8,
   "metadata": {},
   "outputs": [],
   "source": [
    "# HIDDEN\n",
    "using DataFrames, Statistics, CategoricalArrays, Missings"
   ]
  },
  {
   "cell_type": "markdown",
   "metadata": {},
   "source": [
    "# Exercise Solutions: DataFrames in Julia\n",
    "\n",
    "This section contains solutions to the end-of-section exercises found in this book for the **DataFrames in Julia** chapter."
   ]
  },
  {
   "cell_type": "markdown",
   "metadata": {},
   "source": [
    "<div id=\"s01\"></div>\n",
    "\n",
    "### Section 1: DataFrames.jl\n",
    "\n",
    "**Exercise 1.1.1:** Construct a DataFrame that encodes the following data table:\n",
    "\n",
    "| Name | Year | Midterm Grade |\n",
    "|-----|-----|-----|\n",
    "| Jen | Sophomore | 93 |\n",
    "| Neil | Junior | 88 |\n",
    "| Lea | Junior | 86 |\n",
    "| Richard | Sophomore | 75 |\n",
    "| Penelope | Sophomore | 78 |\n",
    "\n",
    "_Hint_: Remember that you can include underscores in symbols using the `:a_b` notation, or you can create a symbol from a string using `Symbol(\"A String\")`."
   ]
  },
  {
   "cell_type": "code",
   "execution_count": 9,
   "metadata": {},
   "outputs": [
    {
     "data": {
      "text/html": [
       "<table class=\"data-frame\"><thead><tr><th></th><th>Name</th><th>Year</th><th>Midterm_Grade</th></tr><tr><th></th><th>String</th><th>String</th><th>Int64</th></tr></thead><tbody><p>5 rows × 3 columns</p><tr><th>1</th><td>Jen</td><td>Sophomore</td><td>93</td></tr><tr><th>2</th><td>Neil</td><td>Junior</td><td>88</td></tr><tr><th>3</th><td>Lea</td><td>Junior</td><td>86</td></tr><tr><th>4</th><td>Richard</td><td>Sophomore</td><td>75</td></tr><tr><th>5</th><td>Penelope</td><td>Sophomore</td><td>78</td></tr></tbody></table>"
      ],
      "text/latex": [
       "\\begin{tabular}{r|ccc}\n",
       "\t& Name & Year & Midterm\\_Grade\\\\\n",
       "\t\\hline\n",
       "\t& String & String & Int64\\\\\n",
       "\t\\hline\n",
       "\t1 & Jen & Sophomore & 93 \\\\\n",
       "\t2 & Neil & Junior & 88 \\\\\n",
       "\t3 & Lea & Junior & 86 \\\\\n",
       "\t4 & Richard & Sophomore & 75 \\\\\n",
       "\t5 & Penelope & Sophomore & 78 \\\\\n",
       "\\end{tabular}\n"
      ],
      "text/plain": [
       "5×3 DataFrame\n",
       "│ Row │ Name     │ Year      │ Midterm_Grade │\n",
       "│     │ \u001b[90mString\u001b[39m   │ \u001b[90mString\u001b[39m    │ \u001b[90mInt64\u001b[39m         │\n",
       "├─────┼──────────┼───────────┼───────────────┤\n",
       "│ 1   │ Jen      │ Sophomore │ 93            │\n",
       "│ 2   │ Neil     │ Junior    │ 88            │\n",
       "│ 3   │ Lea      │ Junior    │ 86            │\n",
       "│ 4   │ Richard  │ Sophomore │ 75            │\n",
       "│ 5   │ Penelope │ Sophomore │ 78            │"
      ]
     },
     "execution_count": 9,
     "metadata": {},
     "output_type": "execute_result"
    }
   ],
   "source": [
    "# SOLUTION:\n",
    "df_1_1_1 = DataFrame(\n",
    "    Name = [\"Jen\", \"Neil\", \"Lea\", \"Richard\", \"Penelope\"],\n",
    "    Year = [\"Sophomore\", \"Junior\", \"Junior\", \"Sophomore\", \"Sophomore\"],\n",
    "    Midterm_Grade = [93, 88, 86, 75, 78]\n",
    ")"
   ]
  },
  {
   "cell_type": "markdown",
   "metadata": {},
   "source": [
    "**Exercise 1.1.2:** Create a `DataFrameRow` object that contains Lea's midterm information."
   ]
  },
  {
   "cell_type": "code",
   "execution_count": 10,
   "metadata": {},
   "outputs": [
    {
     "data": {
      "text/html": [
       "<p>DataFrameRow</p><table class=\"data-frame\"><thead><tr><th></th><th>Name</th><th>Year</th><th>Midterm_Grade</th></tr><tr><th></th><th>String</th><th>String</th><th>Int64</th></tr></thead><tbody><p>1 rows × 3 columns</p><tr><th>3</th><td>Lea</td><td>Junior</td><td>86</td></tr></tbody></table>"
      ],
      "text/latex": [
       "\\begin{tabular}{r|ccc}\n",
       "\t& Name & Year & Midterm\\_Grade\\\\\n",
       "\t\\hline\n",
       "\t& String & String & Int64\\\\\n",
       "\t\\hline\n",
       "\t3 & Lea & Junior & 86 \\\\\n",
       "\\end{tabular}\n"
      ],
      "text/plain": [
       "DataFrameRow\n",
       "│ Row │ Name   │ Year   │ Midterm_Grade │\n",
       "│     │ \u001b[90mString\u001b[39m │ \u001b[90mString\u001b[39m │ \u001b[90mInt64\u001b[39m         │\n",
       "├─────┼────────┼────────┼───────────────┤\n",
       "│ 3   │ Lea    │ Junior │ 86            │"
      ]
     },
     "execution_count": 10,
     "metadata": {},
     "output_type": "execute_result"
    }
   ],
   "source": [
    "# SOLUTION:\n",
    "df_1_1_1[3,:]"
   ]
  },
  {
   "cell_type": "markdown",
   "metadata": {},
   "source": [
    "**Exercise 1.1.3:** Using the function `Statistics.mean`, compute the mean of the midterm scores. Do not hardcode the answer, but use a function which accepts an array."
   ]
  },
  {
   "cell_type": "code",
   "execution_count": 11,
   "metadata": {},
   "outputs": [
    {
     "data": {
      "text/plain": [
       "84.0"
      ]
     },
     "execution_count": 11,
     "metadata": {},
     "output_type": "execute_result"
    }
   ],
   "source": [
    "# SOLUTION:\n",
    "# # if you need to, import statistics\n",
    "# using Statistics\n",
    "\n",
    "mean(df_1_1_1[:Midterm_Grade])"
   ]
  },
  {
   "cell_type": "markdown",
   "metadata": {},
   "source": [
    "<div id=\"s02\"></div>\n",
    "\n",
    "### Section 2: Categortical Arrays\n",
    "\n",
    "**Exercise 1.2.1:** Create a categorical array `arr` for the midterm grades data set from the last set of exericses.\n",
    "\n",
    "| Name | Year | Midterm Grade |\n",
    "|-----|-----|-----|\n",
    "| Jen | Sophomore | 93 |\n",
    "| Neil | Junior | 88 |\n",
    "| Lea | Junior | 86 |\n",
    "| Richard | Sophomore | 75 |\n",
    "| Penelope | Sophomore | 78 |"
   ]
  },
  {
   "cell_type": "code",
   "execution_count": 12,
   "metadata": {},
   "outputs": [
    {
     "data": {
      "text/plain": [
       "5-element CategoricalArray{String,1,UInt32}:\n",
       " \"Sophomore\"\n",
       " \"Junior\"   \n",
       " \"Junior\"   \n",
       " \"Sophomore\"\n",
       " \"Sophomore\""
      ]
     },
     "execution_count": 12,
     "metadata": {},
     "output_type": "execute_result"
    }
   ],
   "source": [
    "# SOLUTION:\n",
    "arr = CategoricalArray(df_1_1_1[:Year])"
   ]
  },
  {
   "cell_type": "markdown",
   "metadata": {},
   "source": [
    "**Exercise 1.2.2:** Add two `Freshman` individuals and three `Senior` individuals to the array (in that order). Recall that you can append arrays using the `append!` function."
   ]
  },
  {
   "cell_type": "code",
   "execution_count": 13,
   "metadata": {},
   "outputs": [
    {
     "data": {
      "text/plain": [
       "10-element CategoricalArray{String,1,UInt32}:\n",
       " \"Sophomore\"\n",
       " \"Junior\"   \n",
       " \"Junior\"   \n",
       " \"Sophomore\"\n",
       " \"Sophomore\"\n",
       " \"Freshman\" \n",
       " \"Freshman\" \n",
       " \"Senior\"   \n",
       " \"Senior\"   \n",
       " \"Senior\"   "
      ]
     },
     "execution_count": 13,
     "metadata": {},
     "output_type": "execute_result"
    }
   ],
   "source": [
    "# SOLUTION:\n",
    "append!(arr, CategoricalArray([\"Freshman\", \"Freshman\", \"Senior\", \"Senior\", \"Senior\"]))"
   ]
  },
  {
   "cell_type": "markdown",
   "metadata": {},
   "source": [
    "**Exercise 1.2.3:** Order the levels of the array so that `Freshman` is less than `Sophomore` is less than `Junior` etc."
   ]
  },
  {
   "cell_type": "code",
   "execution_count": 14,
   "metadata": {},
   "outputs": [
    {
     "data": {
      "text/plain": [
       "4-element Array{String,1}:\n",
       " \"Freshman\" \n",
       " \"Sophomore\"\n",
       " \"Junior\"   \n",
       " \"Senior\"   "
      ]
     },
     "execution_count": 14,
     "metadata": {},
     "output_type": "execute_result"
    }
   ],
   "source": [
    "# SOLUTION:\n",
    "levels!(arr, [\"Freshman\", \"Sophomore\", \"Junior\", \"Senior\"])\n",
    "levels(arr)"
   ]
  },
  {
   "cell_type": "markdown",
   "metadata": {},
   "source": [
    "**Exercise 1.2.4:** Test your ordering using `arr[3] > arr[1] == arr[4] > arr[6]`. (This should return `true`.)"
   ]
  },
  {
   "cell_type": "code",
   "execution_count": 15,
   "metadata": {},
   "outputs": [
    {
     "data": {
      "text/plain": [
       "true"
      ]
     },
     "execution_count": 15,
     "metadata": {},
     "output_type": "execute_result"
    }
   ],
   "source": [
    "# SOLUTION:\n",
    "ordered!(arr, true)\n",
    "arr[3] > arr[1] == arr[4] > arr[6]"
   ]
  },
  {
   "cell_type": "markdown",
   "metadata": {},
   "source": [
    "<div id=\"s03\"></div>\n",
    "\n",
    "### Section 3: Importing and Exporting Data\n",
    "\n",
    "**Exercise 1.3.1:** Write code to open the follow text file as a DataFrame. The assume the filename is `data.txt`.\n",
    "\n",
    "```\n",
    "Col_1|Col_2|Col_3\n",
    "1|2|3\n",
    "4|5|6\n",
    "```\n",
    "\n",
    "```julia\n",
    "# SOLUTION:\n",
    "CSV.read(\"data.txt\", delim=\"|\")\n",
    "```\n",
    "\n",
    "**Exercise 1.3.2:** How would you adapt the `load_json` function if the data in your JSON file as oriented as a dictionary of columns to arrays of values, e.g.\n",
    "\n",
    "```\n",
    "{ \n",
    "    \"Col_1\" : [1, 4],\n",
    "    \"Col_2\" : [2, 5],\n",
    "    \"Col_3\" : [3, 6]\n",
    "}\n",
    "```\n",
    "\n",
    "```julia\n",
    "# SOLUTION:\n",
    "function load_json(path)\n",
    "    dictarr = JSON.parsefile(path)\n",
    "    df_dict = Dict()\n",
    "    for col in keys(dictarr)\n",
    "        df_dict[col] = dictarr[col]\n",
    "    end\n",
    "    return DataFrame(df_dict)\n",
    "end\n",
    "```"
   ]
  },
  {
   "cell_type": "markdown",
   "metadata": {},
   "source": [
    "<div id=\"s04\"></div>\n",
    "\n",
    "### Section 4: Missing Data"
   ]
  },
  {
   "cell_type": "code",
   "execution_count": null,
   "metadata": {},
   "outputs": [],
   "source": []
  },
  {
   "cell_type": "code",
   "execution_count": null,
   "metadata": {},
   "outputs": [],
   "source": []
  },
  {
   "cell_type": "code",
   "execution_count": null,
   "metadata": {},
   "outputs": [],
   "source": []
  },
  {
   "cell_type": "code",
   "execution_count": null,
   "metadata": {},
   "outputs": [],
   "source": []
  },
  {
   "cell_type": "code",
   "execution_count": null,
   "metadata": {},
   "outputs": [],
   "source": []
  },
  {
   "cell_type": "code",
   "execution_count": null,
   "metadata": {},
   "outputs": [],
   "source": []
  },
  {
   "cell_type": "code",
   "execution_count": null,
   "metadata": {},
   "outputs": [],
   "source": []
  },
  {
   "cell_type": "code",
   "execution_count": null,
   "metadata": {},
   "outputs": [],
   "source": []
  },
  {
   "cell_type": "code",
   "execution_count": null,
   "metadata": {},
   "outputs": [],
   "source": []
  },
  {
   "cell_type": "code",
   "execution_count": null,
   "metadata": {},
   "outputs": [],
   "source": []
  },
  {
   "cell_type": "code",
   "execution_count": null,
   "metadata": {},
   "outputs": [],
   "source": []
  }
 ],
 "metadata": {
  "kernelspec": {
   "display_name": "Julia 1.1.0",
   "language": "julia",
   "name": "julia-1.1"
  },
  "language_info": {
   "file_extension": ".jl",
   "mimetype": "application/julia",
   "name": "julia",
   "version": "1.1.0"
  }
 },
 "nbformat": 4,
 "nbformat_minor": 2
}
