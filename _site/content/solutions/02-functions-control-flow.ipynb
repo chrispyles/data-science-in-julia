{
 "cells": [
  {
   "cell_type": "markdown",
   "metadata": {},
   "source": [
    "# Exercise Solutions: Functions and Control Flow\n",
    "\n",
    "This section contains solutions to the end-of-section exercises found in this book for the **Functions and Control Flow** chapter."
   ]
  },
  {
   "cell_type": "markdown",
   "metadata": {},
   "source": [
    "### 2.1 Functions\n",
    "\n",
    "**Exercise 2.1.1:** Define a function with the signature below that returns $ax^2 + bx + c$.\n",
    "\n",
    "```julia\n",
    "function quad(a, b, c, x)\n",
    "```"
   ]
  },
  {
   "cell_type": "code",
   "execution_count": 1,
   "metadata": {},
   "outputs": [
    {
     "data": {
      "text/plain": [
       "quad (generic function with 1 method)"
      ]
     },
     "execution_count": 1,
     "metadata": {},
     "output_type": "execute_result"
    }
   ],
   "source": [
    "function quad(a, b, c, x)\n",
    "    return a*x^2 + b*x + c\n",
    "end"
   ]
  },
  {
   "cell_type": "markdown",
   "metadata": {},
   "source": [
    "**Exercise 2.1.2:** Define a higher order function `make_quad(a, b, c)` with the signature below that accepts `Int64`s as arguments and returns a function with the signature `f(x)` that returns $ax^2 + bx + c$."
   ]
  },
  {
   "cell_type": "code",
   "execution_count": 2,
   "metadata": {},
   "outputs": [
    {
     "data": {
      "text/plain": [
       "make_quad (generic function with 1 method)"
      ]
     },
     "execution_count": 2,
     "metadata": {},
     "output_type": "execute_result"
    }
   ],
   "source": [
    "function make_quad(a::Int64, b::Int64, c::Int64)\n",
    "    function my_quad(x)\n",
    "        return a*x^2 + b*x + c\n",
    "    end\n",
    "    return my_quad\n",
    "end"
   ]
  },
  {
   "cell_type": "markdown",
   "metadata": {},
   "source": [
    "**Exercise 2.1.3:** Create another function `make_quad(a, b, c)` as before that accepts 64-bit numeric types for all of its arguments (i.e. integers _and_ floats). Implicily return an anonymous function in this implementation."
   ]
  },
  {
   "cell_type": "code",
   "execution_count": 3,
   "metadata": {},
   "outputs": [
    {
     "data": {
      "text/plain": [
       "make_quad (generic function with 2 methods)"
      ]
     },
     "execution_count": 3,
     "metadata": {},
     "output_type": "execute_result"
    }
   ],
   "source": [
    "function make_quad(a::Union{Int64,Float64}, b::Union{Int64,Float64}, c::Union{Int64,Float64})\n",
    "    (x) -> a*x^2 + b*x + c\n",
    "end"
   ]
  },
  {
   "cell_type": "markdown",
   "metadata": {},
   "source": [
    "**Exercise 2.1.4:** Finally, create a function `make_quad(a, b, c)` that prints the error `\"Argument(s) not acceptable type.\"` if the arguments are not 64-bit numeric types."
   ]
  },
  {
   "cell_type": "code",
   "execution_count": 4,
   "metadata": {
    "scrolled": true
   },
   "outputs": [
    {
     "data": {
      "text/plain": [
       "make_quad (generic function with 3 methods)"
      ]
     },
     "execution_count": 4,
     "metadata": {},
     "output_type": "execute_result"
    }
   ],
   "source": [
    "function make_quad(a, b, c)\n",
    "    println(\"Argument(s) not acceptable type.\")\n",
    "end"
   ]
  },
  {
   "cell_type": "markdown",
   "metadata": {},
   "source": [
    "### 2.2 Conditionals\n",
    "\n",
    "**Exercise 2.2.1:** Write a function `print_name(name::String)` which prints out the name `name` only if it's length is greater than 0. If the length is 0, it should print out `\"Name string is empty.\"`.\n",
    "\n",
    "_Hint:_ You can use `length(s)` to get the length of a string `s`."
   ]
  },
  {
   "cell_type": "code",
   "execution_count": 23,
   "metadata": {},
   "outputs": [
    {
     "name": "stdout",
     "output_type": "stream",
     "text": [
      "Name string is empty.\n",
      "John\n"
     ]
    }
   ],
   "source": [
    "function print_name(name::String)\n",
    "    if length(name) == 0\n",
    "        println(\"Name string is empty.\")\n",
    "    else\n",
    "        println(name)\n",
    "    end\n",
    "end\n",
    "\n",
    "print_name(\"\"); print_name(\"John\")"
   ]
  },
  {
   "cell_type": "markdown",
   "metadata": {},
   "source": [
    "**Exercise 2.2.2:** Following each line below, write the value of `x`."
   ]
  },
  {
   "cell_type": "code",
   "execution_count": 7,
   "metadata": {},
   "outputs": [
    {
     "name": "stdout",
     "output_type": "stream",
     "text": [
      "0\n",
      "2\n",
      "5\n",
      "2\n",
      "4\n"
     ]
    }
   ],
   "source": [
    "x = 1 < 2 ? 0 : 1;           println(x)\n",
    "x = x > -1 ? 2 : 0;          println(x)\n",
    "x = true && false ? 3 : 5;   println(x)\n",
    "x = x == 5 ? 2 : -1;         println(x)\n",
    "x = x < 0 ? -1 : 4;          println(x)"
   ]
  },
  {
   "cell_type": "markdown",
   "metadata": {},
   "source": [
    "**Exercise 2.2.3:** For each line below, determine whether or not the line will error in evaluation. If a line errors, assume it is not executed. Assume that `A = true`, `B = false`, and `C = true` have already been set.\n",
    "\n",
    "```julia\n",
    "A && B                     # Error? No\n",
    "A && D                     # Error? Yes\n",
    "A || C                     # Error? No\n",
    "B && E                     # Error? No\n",
    "C || D                     # Error? No\n",
    "C && (A || B)              # Error? No\n",
    "B && (A || D)              # Error? No\n",
    "A && (C && D)              # Error? Yes\n",
    "B ⊻ D                      # Error? Yes\n",
    "```"
   ]
  },
  {
   "cell_type": "markdown",
   "metadata": {},
   "source": [
    "### 2.3 Control Flow\n",
    "\n",
    "**Exercise 2.3.1:** Create a while loop that prints all of the letters in the phrase \"data science is fun\" but which are not in the word \"string\".\n",
    "\n",
    "_Hint:_ Create an array of the letters and iterate through the index. You can check if a substring occurs in a larger string using `occursin(substring, big_string)`."
   ]
  },
  {
   "cell_type": "code",
   "execution_count": 28,
   "metadata": {},
   "outputs": [
    {
     "name": "stdout",
     "output_type": "stream",
     "text": [
      "d a a   c e c e     f u "
     ]
    }
   ],
   "source": [
    "# faster way of splitting up the letters into an array\n",
    "letters = split(\"data science is fun\", \"\")\n",
    "\n",
    "for l in letters\n",
    "    if occursin(l, \"string\")\n",
    "        continue\n",
    "    end\n",
    "    print(l * \" \") # the space is not necessary\n",
    "end"
   ]
  },
  {
   "cell_type": "markdown",
   "metadata": {},
   "source": [
    "**Exercise 2.3.2:** Write a for loop to print out all multiples of 3 from 0 to 100 that are not odd. The loop should stop when it hits upon a multiple of 31 **that is not 0**."
   ]
  },
  {
   "cell_type": "code",
   "execution_count": 31,
   "metadata": {},
   "outputs": [
    {
     "name": "stdout",
     "output_type": "stream",
     "text": [
      "0 3 6 9 12 15 18 21 24 27 30 33 36 39 42 45 48 51 54 57 60 63 66 69 72 75 78 81 84 87 90 93 "
     ]
    }
   ],
   "source": [
    "for i in 0:3:100\n",
    "    print(string(i) * \" \")\n",
    "    if (i % 31 == 0) && (i != 0)\n",
    "        break\n",
    "    end\n",
    "end"
   ]
  },
  {
   "cell_type": "markdown",
   "metadata": {},
   "source": [
    "**Exercise 2.3.3:** Write a function `cosines(start, stop)` that returns an array of the cosine of each number in the range `start:stop`. Use a for loop to add items to the array."
   ]
  },
  {
   "cell_type": "code",
   "execution_count": 33,
   "metadata": {},
   "outputs": [
    {
     "data": {
      "text/plain": [
       "10-element Array{Any,1}:\n",
       "  0.5403023058681398 \n",
       " -0.4161468365471424 \n",
       " -0.9899924966004454 \n",
       " -0.6536436208636119 \n",
       "  0.28366218546322625\n",
       "  0.960170286650366  \n",
       "  0.7539022543433046 \n",
       " -0.14550003380861354\n",
       " -0.9111302618846769 \n",
       " -0.8390715290764524 "
      ]
     },
     "execution_count": 33,
     "metadata": {},
     "output_type": "execute_result"
    }
   ],
   "source": [
    "function cosines(start, stop)\n",
    "    arr = []\n",
    "    for i in start:stop\n",
    "        push!(arr, cos(i))\n",
    "    end\n",
    "    return arr\n",
    "end\n",
    "\n",
    "cosines(1, 10)"
   ]
  },
  {
   "cell_type": "markdown",
   "metadata": {},
   "source": [
    "**Exercise 2.3.4:** Rewrite your `cosines` implementation to allow for a different step size. In this implementation using dot syntax to broadcast the cosine function to each element of the range."
   ]
  },
  {
   "cell_type": "code",
   "execution_count": 35,
   "metadata": {},
   "outputs": [
    {
     "data": {
      "text/plain": [
       "5-element Array{Float64,1}:\n",
       "  0.5403023058681398 \n",
       " -0.9899924966004454 \n",
       "  0.28366218546322625\n",
       "  0.7539022543433046 \n",
       " -0.9111302618846769 "
      ]
     },
     "execution_count": 35,
     "metadata": {},
     "output_type": "execute_result"
    }
   ],
   "source": [
    "function cosines(start, stop, step)\n",
    "    arr = start:step:stop\n",
    "    return cos.(arr)\n",
    "end\n",
    "\n",
    "cosines(1, 10, 2)"
   ]
  },
  {
   "cell_type": "markdown",
   "metadata": {},
   "source": [
    " "
   ]
  }
 ],
 "metadata": {
  "kernelspec": {
   "display_name": "Julia 1.1.0",
   "language": "julia",
   "name": "julia-1.1"
  },
  "language_info": {
   "file_extension": ".jl",
   "mimetype": "application/julia",
   "name": "julia",
   "version": "1.1.0"
  },
  "varInspector": {
   "cols": {
    "lenName": 16,
    "lenType": 16,
    "lenVar": 40
   },
   "kernels_config": {
    "python": {
     "delete_cmd_postfix": "",
     "delete_cmd_prefix": "del ",
     "library": "var_list.py",
     "varRefreshCmd": "print(var_dic_list())"
    },
    "r": {
     "delete_cmd_postfix": ") ",
     "delete_cmd_prefix": "rm(",
     "library": "var_list.r",
     "varRefreshCmd": "cat(var_dic_list()) "
    }
   },
   "types_to_exclude": [
    "module",
    "function",
    "builtin_function_or_method",
    "instance",
    "_Feature"
   ],
   "window_display": false
  }
 },
 "nbformat": 4,
 "nbformat_minor": 2
}
