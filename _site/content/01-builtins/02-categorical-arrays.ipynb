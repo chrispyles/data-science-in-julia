{
 "cells": [
  {
   "cell_type": "markdown",
   "metadata": {},
   "source": [
    "# Categorical Arrays\n",
    "\n",
    "Many of the data sets you will come across will have columns that encode categorical data; that is, data that have a specific number of possible outcomes. These data can be hard to work with, but luckily Julia has a package that contains an abstraction for arrays of categorical data; the is called, funnily enough, CategoricalArrays.jl. To begin, we load in both this package and DataFrames.jl."
   ]
  },
  {
   "cell_type": "code",
   "execution_count": 1,
   "metadata": {},
   "outputs": [],
   "source": [
    "using CategoricalArrays, DataFrames"
   ]
  },
  {
   "cell_type": "markdown",
   "metadata": {},
   "source": [
    "## Constructing a `CategoricalArray`\n",
    "\n",
    "Consider the array of individuals below, with possible groups `A`, `B`, or `C`:"
   ]
  },
  {
   "cell_type": "code",
   "execution_count": 42,
   "metadata": {},
   "outputs": [],
   "source": [
    "individuals = [\"A\", \"C\", \"B\", \"B\", \"C\", \"C\", \"B\", \"A\", \"A\", \"A\", \"C\", \"B\"];"
   ]
  },
  {
   "cell_type": "markdown",
   "metadata": {},
   "source": [
    "(The semicolon is used to suppress output.) We have now a categorical variable, and we want to utilize a data abstraction that will represent this array in a way that allows us to better make use of it. The `CategoricalArray` constructor will determine the unique groups in an array and return a `CategoricalArray` object that stores both the unique groups and the original array. The elements of the original array are stored as `CategoricalString` or `CategoricalValue`, depending on whether or not the variable takes on string or numerical values."
   ]
  },
  {
   "cell_type": "code",
   "execution_count": 43,
   "metadata": {},
   "outputs": [
    {
     "data": {
      "text/plain": [
       "12-element CategoricalArray{String,1,UInt32}:\n",
       " \"A\"\n",
       " \"C\"\n",
       " \"B\"\n",
       " \"B\"\n",
       " \"C\"\n",
       " \"C\"\n",
       " \"B\"\n",
       " \"A\"\n",
       " \"A\"\n",
       " \"A\"\n",
       " \"C\"\n",
       " \"B\""
      ]
     },
     "execution_count": 43,
     "metadata": {},
     "output_type": "execute_result"
    }
   ],
   "source": [
    "ca = CategoricalArray(individuals)"
   ]
  },
  {
   "cell_type": "markdown",
   "metadata": {},
   "source": [
    "### Levels and Ordering\n",
    "\n",
    "We can see the unique values in the `CategoricalArray` using the `levels` function:"
   ]
  },
  {
   "cell_type": "code",
   "execution_count": 44,
   "metadata": {},
   "outputs": [
    {
     "data": {
      "text/plain": [
       "3-element Array{String,1}:\n",
       " \"A\"\n",
       " \"B\"\n",
       " \"C\""
      ]
     },
     "execution_count": 44,
     "metadata": {},
     "output_type": "execute_result"
    }
   ],
   "source": [
    "levels(ca)"
   ]
  },
  {
   "cell_type": "markdown",
   "metadata": {},
   "source": [
    "These levels default to an ascending order; we can mutate the object to change the order of the levels using the `levels!` function."
   ]
  },
  {
   "cell_type": "code",
   "execution_count": 45,
   "metadata": {},
   "outputs": [
    {
     "data": {
      "text/plain": [
       "3-element Array{String,1}:\n",
       " \"B\"\n",
       " \"A\"\n",
       " \"C\""
      ]
     },
     "execution_count": 45,
     "metadata": {},
     "output_type": "execute_result"
    }
   ],
   "source": [
    "levels!(ca, [\"B\", \"A\", \"C\"])\n",
    "levels(ca)"
   ]
  },
  {
   "cell_type": "markdown",
   "metadata": {},
   "source": [
    "This behavior allows comparison operators to be used on elements of a `CategoricalArray`, as long as they were constructed with the argument `ordered = true`. To achieve, this, we can reconstruct the `CategoricalArray` from individuals with ordering and reapply our `levels!` call."
   ]
  },
  {
   "cell_type": "code",
   "execution_count": 46,
   "metadata": {},
   "outputs": [
    {
     "name": "stdout",
     "output_type": "stream",
     "text": [
      "Individual 1: A\t\tIndividual 2: B\n",
      "Indivual 1 < Individual 2: true\n",
      "Changing level order...\n",
      "Indivual 1 < Individual 2: false\n"
     ]
    }
   ],
   "source": [
    "ordered_ca = CategoricalArray(individuals, ordered=true)\n",
    "println(\"Individual 1: $(ordered_ca[1])\\t\\tIndividual 2: $(ordered_ca[3])\")\n",
    "println(\"Indivual 1 < Individual 2: $(ordered_ca[1] < ordered_ca[3])\")\n",
    "println(\"Changing level order...\")\n",
    "levels!(ordered_ca, [\"B\", \"A\", \"C\"])\n",
    "println(\"Indivual 1 < Individual 2: $(ordered_ca[1] < ordered_ca[3])\")"
   ]
  },
  {
   "cell_type": "markdown",
   "metadata": {},
   "source": [
    "The level order we implemented changed whether or not an individual of class `A` was less than one of class `B`. We can test whether or not a `CategoricalArray` is ordered using the `isordered` function, and we can change this using the `ordered!` function."
   ]
  },
  {
   "cell_type": "code",
   "execution_count": 47,
   "metadata": {},
   "outputs": [
    {
     "data": {
      "text/plain": [
       "(false, true)"
      ]
     },
     "execution_count": 47,
     "metadata": {},
     "output_type": "execute_result"
    }
   ],
   "source": [
    "isordered(ca), isordered(ordered_ca)"
   ]
  },
  {
   "cell_type": "code",
   "execution_count": 48,
   "metadata": {},
   "outputs": [
    {
     "data": {
      "text/plain": [
       "true"
      ]
     },
     "execution_count": 48,
     "metadata": {},
     "output_type": "execute_result"
    }
   ],
   "source": [
    "ordered!(ca, true)\n",
    "isordered(ca)"
   ]
  },
  {
   "cell_type": "code",
   "execution_count": 49,
   "metadata": {},
   "outputs": [
    {
     "data": {
      "text/plain": [
       "false"
      ]
     },
     "execution_count": 49,
     "metadata": {},
     "output_type": "execute_result"
    }
   ],
   "source": [
    "ordered!(ca, false)\n",
    "isordered(ca)"
   ]
  },
  {
   "cell_type": "markdown",
   "metadata": {},
   "source": [
    "## Mutating a `CategoricalArray`\n",
    "\n",
    "The `CategorialArray` is mutable, so we can set a mapping to change the elements of a `CategoricalArray` to some predefined new value. For example, let's say that all individuals of type `A` in our sample suddenly became type `D`, we would employ the `recode` (inplace: `recode!`) function to change these values using a mapper."
   ]
  },
  {
   "cell_type": "code",
   "execution_count": 59,
   "metadata": {},
   "outputs": [
    {
     "data": {
      "text/plain": [
       "12-element CategoricalArray{String,1,UInt32}:\n",
       " \"D\"\n",
       " \"C\"\n",
       " \"B\"\n",
       " \"B\"\n",
       " \"C\"\n",
       " \"C\"\n",
       " \"B\"\n",
       " \"D\"\n",
       " \"D\"\n",
       " \"D\"\n",
       " \"C\"\n",
       " \"B\""
      ]
     },
     "execution_count": 59,
     "metadata": {},
     "output_type": "execute_result"
    }
   ],
   "source": [
    "recoded_ca = recode(ordered_ca, \"A\" => \"D\")\n",
    "ordered!(recoded_ca, true)"
   ]
  },
  {
   "cell_type": "markdown",
   "metadata": {},
   "source": [
    "As a sanity check, let's make sure that our original levels were inherited:"
   ]
  },
  {
   "cell_type": "code",
   "execution_count": 60,
   "metadata": {},
   "outputs": [
    {
     "name": "stdout",
     "output_type": "stream",
     "text": [
      "Individual 1: D\t\tIndividual 2: B\n",
      "Indivual 1 < Individual 2: false\n"
     ]
    }
   ],
   "source": [
    "println(\"Individual 1: $(recoded_ca[1])\\t\\tIndividual 2: $(recoded_ca[3])\")\n",
    "println(\"Indivual 1 < Individual 2: $(recoded_ca[1] < recoded_ca[3])\")"
   ]
  },
  {
   "cell_type": "markdown",
   "metadata": {},
   "source": [
    "By default, the `CategoricalArray` class can hold up to $2^{32}$ categories, which takes up a lot of memory. Because allocating memory efficiently is one of the keystones of Julia, the package provides a function to free up memory not being used by the available categories; this function is `compress`."
   ]
  },
  {
   "cell_type": "code",
   "execution_count": 52,
   "metadata": {},
   "outputs": [
    {
     "data": {
      "text/plain": [
       "12-element CategoricalArray{String,1,UInt8}:\n",
       " \"A\"\n",
       " \"C\"\n",
       " \"B\"\n",
       " \"B\"\n",
       " \"C\"\n",
       " \"C\"\n",
       " \"B\"\n",
       " \"A\"\n",
       " \"A\"\n",
       " \"A\"\n",
       " \"C\"\n",
       " \"B\""
      ]
     },
     "execution_count": 52,
     "metadata": {},
     "output_type": "execute_result"
    }
   ],
   "source": [
    "ca = compress(ca)"
   ]
  },
  {
   "cell_type": "markdown",
   "metadata": {},
   "source": [
    "You can also add elements to a `CategoricalArray` of a new type by pushing elements as you would any other array. For example, if we wanted to add an individual of type `E` to our data set, we would push this individual to the array and then check the levels, with any reordering necessary."
   ]
  },
  {
   "cell_type": "code",
   "execution_count": 53,
   "metadata": {},
   "outputs": [
    {
     "data": {
      "text/plain": [
       "13-element CategoricalArray{String,1,UInt8}:\n",
       " \"A\"\n",
       " \"C\"\n",
       " \"B\"\n",
       " \"B\"\n",
       " \"C\"\n",
       " \"C\"\n",
       " \"B\"\n",
       " \"A\"\n",
       " \"A\"\n",
       " \"A\"\n",
       " \"C\"\n",
       " \"B\"\n",
       " \"E\""
      ]
     },
     "execution_count": 53,
     "metadata": {},
     "output_type": "execute_result"
    }
   ],
   "source": [
    "push!(ca, \"E\")"
   ]
  },
  {
   "cell_type": "code",
   "execution_count": 54,
   "metadata": {},
   "outputs": [
    {
     "data": {
      "text/plain": [
       "4-element Array{String,1}:\n",
       " \"B\"\n",
       " \"A\"\n",
       " \"C\"\n",
       " \"E\""
      ]
     },
     "execution_count": 54,
     "metadata": {},
     "output_type": "execute_result"
    }
   ],
   "source": [
    "levels(ca)"
   ]
  },
  {
   "cell_type": "markdown",
   "metadata": {},
   "source": [
    "## Categorical Data in DataFrames\n",
    "\n",
    "Columns of DataFrames are represented internally as arrays, but the `DataFrame` type supports using `CategoricalArray` as columns as well. Recall our simple data set from the last section:"
   ]
  },
  {
   "cell_type": "code",
   "execution_count": 55,
   "metadata": {},
   "outputs": [
    {
     "data": {
      "text/html": [
       "<table class=\"data-frame\"><thead><tr><th></th><th>Sex</th><th>Age</th></tr><tr><th></th><th>String</th><th>Int32</th></tr></thead><tbody><p>6 rows × 2 columns</p><tr><th>1</th><td>F</td><td>19</td></tr><tr><th>2</th><td>M</td><td>18</td></tr><tr><th>3</th><td>M</td><td>20</td></tr><tr><th>4</th><td>F</td><td>22</td></tr><tr><th>5</th><td>M</td><td>25</td></tr><tr><th>6</th><td>F</td><td>23</td></tr></tbody></table>"
      ],
      "text/latex": [
       "\\begin{tabular}{r|cc}\n",
       "\t& Sex & Age\\\\\n",
       "\t\\hline\n",
       "\t& String & Int32\\\\\n",
       "\t\\hline\n",
       "\t1 & F & 19 \\\\\n",
       "\t2 & M & 18 \\\\\n",
       "\t3 & M & 20 \\\\\n",
       "\t4 & F & 22 \\\\\n",
       "\t5 & M & 25 \\\\\n",
       "\t6 & F & 23 \\\\\n",
       "\\end{tabular}\n"
      ],
      "text/plain": [
       "6×2 DataFrame\n",
       "│ Row │ Sex    │ Age   │\n",
       "│     │ \u001b[90mString\u001b[39m │ \u001b[90mInt32\u001b[39m │\n",
       "├─────┼────────┼───────┤\n",
       "│ 1   │ F      │ 19    │\n",
       "│ 2   │ M      │ 18    │\n",
       "│ 3   │ M      │ 20    │\n",
       "│ 4   │ F      │ 22    │\n",
       "│ 5   │ M      │ 25    │\n",
       "│ 6   │ F      │ 23    │"
      ]
     },
     "execution_count": 55,
     "metadata": {},
     "output_type": "execute_result"
    }
   ],
   "source": [
    "df = DataFrame(\n",
    "    Sex = [\"F\", \"M\", \"M\", \"F\", \"M\", \"F\"],\n",
    "    Age = Int32[19, 18, 20, 22, 25, 23]\n",
    ")"
   ]
  },
  {
   "cell_type": "markdown",
   "metadata": {},
   "source": [
    "The sex column is encoding a categorical variable which takes on values `F` or `M`. To encode this column as a `CategoricalArray`, we apply the `categorical!` function to the DataFrame and column."
   ]
  },
  {
   "cell_type": "code",
   "execution_count": 56,
   "metadata": {},
   "outputs": [
    {
     "data": {
      "text/html": [
       "<table class=\"data-frame\"><thead><tr><th></th><th>Sex</th><th>Age</th></tr><tr><th></th><th>Categorical…</th><th>Int32</th></tr></thead><tbody><p>6 rows × 2 columns</p><tr><th>1</th><td>F</td><td>19</td></tr><tr><th>2</th><td>M</td><td>18</td></tr><tr><th>3</th><td>M</td><td>20</td></tr><tr><th>4</th><td>F</td><td>22</td></tr><tr><th>5</th><td>M</td><td>25</td></tr><tr><th>6</th><td>F</td><td>23</td></tr></tbody></table>"
      ],
      "text/latex": [
       "\\begin{tabular}{r|cc}\n",
       "\t& Sex & Age\\\\\n",
       "\t\\hline\n",
       "\t& Categorical… & Int32\\\\\n",
       "\t\\hline\n",
       "\t1 & F & 19 \\\\\n",
       "\t2 & M & 18 \\\\\n",
       "\t3 & M & 20 \\\\\n",
       "\t4 & F & 22 \\\\\n",
       "\t5 & M & 25 \\\\\n",
       "\t6 & F & 23 \\\\\n",
       "\\end{tabular}\n"
      ],
      "text/plain": [
       "6×2 DataFrame\n",
       "│ Row │ Sex          │ Age   │\n",
       "│     │ \u001b[90mCategorical…\u001b[39m │ \u001b[90mInt32\u001b[39m │\n",
       "├─────┼──────────────┼───────┤\n",
       "│ 1   │ F            │ 19    │\n",
       "│ 2   │ M            │ 18    │\n",
       "│ 3   │ M            │ 20    │\n",
       "│ 4   │ F            │ 22    │\n",
       "│ 5   │ M            │ 25    │\n",
       "│ 6   │ F            │ 23    │"
      ]
     },
     "execution_count": 56,
     "metadata": {},
     "output_type": "execute_result"
    }
   ],
   "source": [
    "categorical!(df, :Sex)"
   ]
  },
  {
   "cell_type": "markdown",
   "metadata": {},
   "source": [
    "As you can see, the type of the `Sex` column has changed from `String` to `CategoricalString`, another data abstraction from CategoricalArrays.jl."
   ]
  },
  {
   "cell_type": "code",
   "execution_count": 57,
   "metadata": {},
   "outputs": [
    {
     "data": {
      "text/plain": [
       "CategoricalString{UInt32}"
      ]
     },
     "execution_count": 57,
     "metadata": {},
     "output_type": "execute_result"
    }
   ],
   "source": [
    "eltype(df.Sex)"
   ]
  },
  {
   "cell_type": "markdown",
   "metadata": {},
   "source": [
    "If you don't pass a column label to `categorical!`, it converts each column to a `CategoricalArray!`.\n",
    "\n",
    "<!-- conclude -->"
   ]
  },
  {
   "cell_type": "markdown",
   "metadata": {},
   "source": [
    "## Exercises\n",
    "\n",
    "**Exercise 1.2.1:** Create a categorical array `arr` for `Year` variable from the midterm grades data set from the last set of exericses.\n",
    "\n",
    "| Name | Year | Midterm Grade |\n",
    "|-----|-----|-----|\n",
    "| Jen | Sophomore | 93 |\n",
    "| Neil | Junior | 88 |\n",
    "| Lea | Junior | 86 |\n",
    "| Richard | Sophomore | 75 |\n",
    "| Penelope | Sophomore | 78 |\n",
    "\n",
    "**Exercise 1.2.2:** Add two `Freshman` individuals and three `Senior` individuals to the array (in that order). Recall that you can append arrays using the `append!` function.\n",
    "\n",
    "**Exercise 1.2.3:** Order the levels of the array so that `Freshman` is less than `Sophomore` is less than `Junior` etc.\n",
    "\n",
    "**Exercise 1.2.4:** Test your ordering using `arr[3] > arr[1] == arr[4] > arr[6]`. (This should return `true`.)\n",
    "\n",
    "_Hint:_ Is your `CategoricalArray` ordered?"
   ]
  }
 ],
 "metadata": {
  "kernelspec": {
   "display_name": "Julia 1.1.0",
   "language": "julia",
   "name": "julia-1.1"
  },
  "language_info": {
   "file_extension": ".jl",
   "mimetype": "application/julia",
   "name": "julia",
   "version": "1.1.0"
  }
 },
 "nbformat": 4,
 "nbformat_minor": 2
}
