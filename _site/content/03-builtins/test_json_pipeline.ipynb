{
 "cells": [
  {
   "cell_type": "markdown",
   "metadata": {},
   "source": [
    "# Testing `json_pipeline.jl`\n",
    "\n",
    "This notebook is to test the `load_json` function in the JSON pipeline file."
   ]
  },
  {
   "cell_type": "code",
   "execution_count": 34,
   "metadata": {},
   "outputs": [
    {
     "data": {
      "text/plain": [
       "write_json (generic function with 1 method)"
      ]
     },
     "execution_count": 34,
     "metadata": {},
     "output_type": "execute_result"
    }
   ],
   "source": [
    "include(\"json_pipeline.jl\")"
   ]
  },
  {
   "cell_type": "code",
   "execution_count": 38,
   "metadata": {},
   "outputs": [
    {
     "name": "stdout",
     "output_type": "stream",
     "text": [
      "5×5 DataFrame\n",
      "│ Row │ Petal.Length │ Petal.Width │ Sepal.Length │ Sepal.Width │ Species │\n",
      "│     │ \u001b[90mFloat64\u001b[39m      │ \u001b[90mFloat64\u001b[39m     │ \u001b[90mFloat64\u001b[39m      │ \u001b[90mFloat64\u001b[39m     │ \u001b[90mString\u001b[39m  │\n",
      "├─────┼──────────────┼─────────────┼──────────────┼─────────────┼─────────┤\n",
      "│ 1   │ 1.4          │ 0.2         │ 5.1          │ 3.5         │ setosa  │\n",
      "│ 2   │ 1.4          │ 0.2         │ 4.9          │ 3.0         │ setosa  │\n",
      "│ 3   │ 1.3          │ 0.2         │ 4.7          │ 3.2         │ setosa  │\n",
      "│ 4   │ 1.5          │ 0.2         │ 4.6          │ 3.1         │ setosa  │\n",
      "│ 5   │ 1.4          │ 0.2         │ 5.0          │ 3.6         │ setosa  │\n",
      "5×5 DataFrame\n",
      "│ Row │ Petal.Length │ Petal.Width │ Sepal.Length │ Sepal.Width │ Species    │\n",
      "│     │ \u001b[90mAny\u001b[39m          │ \u001b[90mAny\u001b[39m         │ \u001b[90mAny\u001b[39m          │ \u001b[90mAny\u001b[39m         │ \u001b[90mAny\u001b[39m        │\n",
      "├─────┼──────────────┼─────────────┼──────────────┼─────────────┼────────────┤\n",
      "│ 1   │ 1.5          │ 0.1         │ 5.2          │ 4.1         │ setosa     │\n",
      "│ 2   │ 1.6          │ 0.2         │ 4.7          │ 3.2         │ setosa     │\n",
      "│ 3   │ 1.4          │ 0.2         │ 4.9          │ 3.0         │ setosa     │\n",
      "│ 4   │ 4.6          │ 1.5         │ 6.5          │ 2.8         │ versicolor │\n",
      "│ 5   │ 4.5          │ 1.5         │ 6.0          │ 2.9         │ versicolor │\n",
      "5×5 DataFrame\n",
      "│ Row │ Petal.Length │ Petal.Width │ Sepal.Length │ Sepal.Width │ Species    │\n",
      "│     │ \u001b[90mFloat64\u001b[39m      │ \u001b[90mFloat64\u001b[39m     │ \u001b[90mFloat64\u001b[39m      │ \u001b[90mFloat64\u001b[39m     │ \u001b[90mString\u001b[39m     │\n",
      "├─────┼──────────────┼─────────────┼──────────────┼─────────────┼────────────┤\n",
      "│ 1   │ 1.5          │ 0.1         │ 5.2          │ 4.1         │ setosa     │\n",
      "│ 2   │ 1.6          │ 0.2         │ 4.7          │ 3.2         │ setosa     │\n",
      "│ 3   │ 1.4          │ 0.2         │ 4.9          │ 3.0         │ setosa     │\n",
      "│ 4   │ 4.6          │ 1.5         │ 6.5          │ 2.8         │ versicolor │\n",
      "│ 5   │ 4.5          │ 1.5         │ 6.0          │ 2.9         │ versicolor │\n"
     ]
    }
   ],
   "source": [
    "for i in [\"records\", \"index\", \"columns\"]\n",
    "    println(first(load_json(\"data/iris_\" * i * \".json\", orient=i), 5))\n",
    "end"
   ]
  }
 ],
 "metadata": {
  "kernelspec": {
   "display_name": "Julia 1.1.0",
   "language": "julia",
   "name": "julia-1.1"
  },
  "language_info": {
   "file_extension": ".jl",
   "mimetype": "application/julia",
   "name": "julia",
   "version": "1.1.0"
  }
 },
 "nbformat": 4,
 "nbformat_minor": 2
}
