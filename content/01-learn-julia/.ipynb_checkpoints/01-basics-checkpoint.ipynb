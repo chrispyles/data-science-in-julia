{
 "cells": [
  {
   "cell_type": "markdown",
   "metadata": {},
   "source": [
    "# Julia Basics\n",
    "\n",
    "In this section, we cover the basic data types in Julia and operations (incl. arithmetic and logical operators). We also cover some of Julia's variable features, including Unicode characters."
   ]
  },
  {
   "cell_type": "markdown",
   "metadata": {},
   "source": [
    "## Elementary Data Types\n",
    "\n",
    "Julia's elementary data types are analagous to those of other computing languages, although they differ in two big ways:\n",
    "\n",
    "1. Floating point numbers and integers can be represented with varying precision and using a different amount of memory.\n",
    "2. Julia recognizes individual unicode characters as a datatype.\n",
    "\n",
    "The first of these is important because it allows you to optimize your code for memory usage. The main numerical types are `Int32`, `Int64`, `Float32`, and `Float64`. The first two represent integer values and the second two floating point decimal values. Julia defaults to the 64-bit types when no type is specified."
   ]
  },
  {
   "cell_type": "code",
   "execution_count": 3,
   "metadata": {},
   "outputs": [
    {
     "data": {
      "text/plain": [
       "(Int64, Float64)"
      ]
     },
     "execution_count": 3,
     "metadata": {},
     "output_type": "execute_result"
    }
   ],
   "source": [
    "typeof(4), typeof(4.2)"
   ]
  },
  {
   "cell_type": "markdown",
   "metadata": {},
   "source": [
    "As you can see, we use the `typeof` function to get the data type. The primitive integer types in Julia are:\n",
    "\n",
    "| Type       | Signed? | Number of bits | Smallest value | Largest value |\n",
    "|:---------- |:------- |:-------------- |:-------------- |:------------- |\n",
    "| `Int8`     | ✓       | 8              | -2^7           | 2^7 - 1       |\n",
    "| `UInt8`    | &nbsp;  | 8              | 0              | 2^8 - 1       |\n",
    "| `Int16`    | ✓       | 16             | -2^15          | 2^15 - 1      |\n",
    "| `UInt16`   | &nbsp;  | 16             | 0              | 2^16 - 1      |\n",
    "| `Int32`    | ✓       | 32             | -2^31          | 2^31 - 1      |\n",
    "| `UInt32`   | &nbsp;  | 32             | 0              | 2^32 - 1      |\n",
    "| `Int64`    | ✓       | 64             | -2^63          | 2^63 - 1      |\n",
    "| `UInt64`   | &nbsp;  | 64             | 0              | 2^64 - 1      |\n",
    "| `Int128`   | ✓       | 128            | -2^127         | 2^127 - 1     |\n",
    "| `UInt128`  | &nbsp;  | 128            | 0              | 2^128 - 1     |\n",
    "| `Bool`     | N/A     | 8              | `false` (0)    | `true` (1)    |\n",
    "\n",
    "Notice that `Bool` objects are considered to be integer types; this is because in Julia, as in many other languages, values are eitehr truthy or falsy, and so we can represent `true` as `1` and `false` as `0`. \n",
    "\n",
    "The maximum and minimum of each type can be found using the `typemax` and `typemin` functions."
   ]
  },
  {
   "cell_type": "code",
   "execution_count": 4,
   "metadata": {},
   "outputs": [
    {
     "data": {
      "text/plain": [
       "(2147483647, -2147483648)"
      ]
     },
     "execution_count": 4,
     "metadata": {},
     "output_type": "execute_result"
    }
   ],
   "source": [
    "typemax(Int32), typemin(Int32)"
   ]
  },
  {
   "cell_type": "markdown",
   "metadata": {},
   "source": [
    "The primitive floating point types in Julia are:\n",
    "\n",
    "| Type      | Precision  | Number of bits |\n",
    "|:--------- |:---------- |:-------------- |\n",
    "| `Float16` | half       | 16             |\n",
    "| `Float32` | single     | 32             |\n",
    "| `Float64` | double     | 64             |\n",
    "\n",
    "Julia also has types for strings, characters, and arrays, but these will be covered later."
   ]
  },
  {
   "cell_type": "markdown",
   "metadata": {},
   "source": [
    "## Operations\n",
    "\n",
    "Julia contains the standard suite of operations, including `+`, `-`, `*`, `/`, `÷` (floor division), `\\` (inverse division), `^`, and `%` (mod)."
   ]
  },
  {
   "cell_type": "code",
   "execution_count": 8,
   "metadata": {},
   "outputs": [
    {
     "data": {
      "text/plain": [
       "(3, -1, 2, 0.5, 0, 2.0, 1, 1)"
      ]
     },
     "execution_count": 8,
     "metadata": {},
     "output_type": "execute_result"
    }
   ],
   "source": [
    "1 + 2, 1 - 2, 1 * 2, 1 / 2, 1 ÷ 2, 1 \\ 2, 1 ^ 2, 1 % 2"
   ]
  },
  {
   "cell_type": "markdown",
   "metadata": {},
   "source": [
    "## Variables\n",
    "\n",
    "As with many other languages, variables are assigned using the assignment operator `=`. Variables are case sensitive and their values are changeable."
   ]
  },
  {
   "cell_type": "code",
   "execution_count": 21,
   "metadata": {},
   "outputs": [
    {
     "data": {
      "text/plain": [
       "1"
      ]
     },
     "execution_count": 21,
     "metadata": {},
     "output_type": "execute_result"
    }
   ],
   "source": [
    "x = 1"
   ]
  },
  {
   "cell_type": "markdown",
   "metadata": {},
   "source": [
    "For all of the operators above, you can append an equal sign `=` to update a value assigned to a variable name:"
   ]
  },
  {
   "cell_type": "code",
   "execution_count": 22,
   "metadata": {},
   "outputs": [
    {
     "data": {
      "text/plain": [
       "3"
      ]
     },
     "execution_count": 22,
     "metadata": {},
     "output_type": "execute_result"
    }
   ],
   "source": [
    "x += 2\n",
    "x"
   ]
  },
  {
   "cell_type": "code",
   "execution_count": 23,
   "metadata": {},
   "outputs": [
    {
     "data": {
      "text/plain": [
       "1.5"
      ]
     },
     "execution_count": 23,
     "metadata": {},
     "output_type": "execute_result"
    }
   ],
   "source": [
    "x /= 2\n",
    "x"
   ]
  },
  {
   "cell_type": "markdown",
   "metadata": {},
   "source": [
    "### Unicode Characters\n",
    "\n",
    "Note the operator `÷` for integer division. This operator is an instance of Julia's ability to include Unicode characters in code, which is useful for defining variables and for allowing more accurate mathematical notation. These characters are added using by appending a `\\` to the beginning of their name and pressing TAB. Some examples:\n",
    "\n",
    "| Character | Shortcut |\n",
    "|-----|-----|\n",
    "| `÷` | `\\div + TAB` |\n",
    "| `≤` | `\\le + TAB` |\n",
    "| `⊻` | `\\xor + TAB` |\n",
    "| `ℯ` | `\\euler + TAB` |\n",
    "| `π` | `\\pi + TAB` |\n",
    "| `ε` | `\\varepsilon + TAB` |\n",
    "\n",
    "For most characters, these are similar to their LaTeX command (if they are available in LaTeX)."
   ]
  },
  {
   "cell_type": "code",
   "execution_count": 10,
   "metadata": {},
   "outputs": [
    {
     "data": {
      "text/plain": [
       "ℯ = 2.7182818284590..."
      ]
     },
     "execution_count": 10,
     "metadata": {},
     "output_type": "execute_result"
    }
   ],
   "source": [
    "ℯ                  # ℯ (|euler) is prefedined as Euler's constant, but the character 'e' is not"
   ]
  },
  {
   "cell_type": "code",
   "execution_count": 11,
   "metadata": {},
   "outputs": [
    {
     "data": {
      "text/plain": [
       "π = 3.1415926535897..."
      ]
     },
     "execution_count": 11,
     "metadata": {},
     "output_type": "execute_result"
    }
   ],
   "source": [
    "π                  # π (\\pi) is also predefined"
   ]
  },
  {
   "cell_type": "markdown",
   "metadata": {},
   "source": [
    "Most characters do not have a preset value, and so you can assign them certain values."
   ]
  },
  {
   "cell_type": "code",
   "execution_count": 18,
   "metadata": {},
   "outputs": [
    {
     "data": {
      "text/plain": [
       "0.5"
      ]
     },
     "execution_count": 18,
     "metadata": {},
     "output_type": "execute_result"
    }
   ],
   "source": [
    "δ = 0.5"
   ]
  },
  {
   "cell_type": "markdown",
   "metadata": {},
   "source": [
    "## Comparison and Logical Operators\n",
    "\n",
    "Julia provides a suite of comparison operators to perform comparisons between data types and logical operators to create complex logical statements that evaluate to `Bool` values. Because of the unicode characters, some operators have more than one representation.\n",
    "\n",
    "| Operator | Meaning |\n",
    "|-----|-----|\n",
    "| `==` | equal to |\n",
    "| `!=`, `≠` | not equal to |\n",
    "| `>` | greater than |\n",
    "| `>=`, `≥` | greater than or equal to |\n",
    "| `<` | less than |\n",
    "| `<=`, `≤` | less than or equal to |\n",
    "| `&&` | and |\n",
    "| ```\\|\\|``` | or |\n",
    "| `⊻` | xor |\n",
    "\n",
    "Placing expressions on either sides of these operators yields a `true` or `false` value. You can negate a boolean value using the `!` (not) operator."
   ]
  },
  {
   "cell_type": "code",
   "execution_count": 25,
   "metadata": {},
   "outputs": [
    {
     "data": {
      "text/plain": [
       "(true, true, false, false, true)"
      ]
     },
     "execution_count": 25,
     "metadata": {},
     "output_type": "execute_result"
    }
   ],
   "source": [
    "1 ≠ 2, 1 == 1, 1 == 2, 2 ≤ 1, 2 ≥ 1"
   ]
  },
  {
   "cell_type": "code",
   "execution_count": 30,
   "metadata": {},
   "outputs": [
    {
     "data": {
      "text/plain": [
       "false"
      ]
     },
     "execution_count": 30,
     "metadata": {},
     "output_type": "execute_result"
    }
   ],
   "source": [
    "((1 ≠ 2) || (2 ≥ 1)) && ((1 ≤ 2) ⊻ (2 != 1))"
   ]
  },
  {
   "cell_type": "code",
   "execution_count": 29,
   "metadata": {},
   "outputs": [
    {
     "data": {
      "text/plain": [
       "true"
      ]
     },
     "execution_count": 29,
     "metadata": {},
     "output_type": "execute_result"
    }
   ],
   "source": [
    "!(((1 ≠ 2) || (2 ≥ 1)) && ((1 ≤ 2) ⊻ (2 != 1)))"
   ]
  },
  {
   "cell_type": "markdown",
   "metadata": {},
   "source": [
    "## Exercises\n",
    "\n",
    "**Exercise 1.1.1:** What are the type minimum and maximum for `Float 64`?\n",
    "\n",
    "**Exercise 1.1.2:** Encode `true` as a Float64.\n",
    "\n",
    "**Exercise 1.1.3:** Use Julia to calculate $\\lfloor 10/3 \\rfloor \\mod 2$.\n",
    "\n",
    "**Exercise 1.1.4:** What is the output of the following logical expression (recommended that you don't use Julia):\n",
    "\n",
    "```julia\n",
    "(((true ⊻ (1 ≥ 2)) || (1 >= 1)) && (true && (1 != 2) && (2 ≠ 2))) ⊻ false\n",
    "```"
   ]
  }
 ],
 "metadata": {
  "kernelspec": {
   "display_name": "Julia 1.1.0",
   "language": "julia",
   "name": "julia-1.1"
  },
  "language_info": {
   "file_extension": ".jl",
   "mimetype": "application/julia",
   "name": "julia",
   "version": "1.1.0"
  }
 },
 "nbformat": 4,
 "nbformat_minor": 2
}
