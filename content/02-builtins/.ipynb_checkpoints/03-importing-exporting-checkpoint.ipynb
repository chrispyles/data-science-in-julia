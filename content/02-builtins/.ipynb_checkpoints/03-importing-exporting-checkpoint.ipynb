{
 "cells": [
  {
   "cell_type": "markdown",
   "metadata": {},
   "source": [
    "# Import and Exporting Data\n",
    "\n",
    "It is common practice to import data from external files so that the DataFrames do not need to be hardcoded. Julia provides the CSV.jl package to handle reading and writing CSV files; it is also easily integrated with DataFrames.jl.\n",
    "\n",
    "_A quick note about the data:_ The data in this section is exported from a pre-loaded data set in R with information about different Iris species. The data original comes from [UCI](https://archive.ics.uci.edu/ml/datasets/Iris)."
   ]
  },
  {
   "cell_type": "code",
   "execution_count": 7,
   "metadata": {},
   "outputs": [],
   "source": [
    "using CSV, DataFrames"
   ]
  },
  {
   "cell_type": "markdown",
   "metadata": {},
   "source": [
    "## CSV Files\n",
    "\n",
    "### Reading Data\n",
    "\n",
    "The easiest way to load a CSV file is to call `CSV.read()` on a string containing the relative file path, as with any other language. This function reads the file and outputs a `DataFrame` object with the data from that file."
   ]
  },
  {
   "cell_type": "code",
   "execution_count": 10,
   "metadata": {},
   "outputs": [
    {
     "data": {
      "text/html": [
       "<table class=\"data-frame\"><thead><tr><th></th><th>Sepal.Length</th><th>Sepal.Width</th><th>Petal.Length</th><th>Petal.Width</th><th>Species</th></tr><tr><th></th><th>Float64⍰</th><th>Float64⍰</th><th>Float64⍰</th><th>Float64⍰</th><th>String⍰</th></tr></thead><tbody><p>5 rows × 5 columns</p><tr><th>1</th><td>5.1</td><td>3.5</td><td>1.4</td><td>0.2</td><td>setosa</td></tr><tr><th>2</th><td>4.9</td><td>3.0</td><td>1.4</td><td>0.2</td><td>setosa</td></tr><tr><th>3</th><td>4.7</td><td>3.2</td><td>1.3</td><td>0.2</td><td>setosa</td></tr><tr><th>4</th><td>4.6</td><td>3.1</td><td>1.5</td><td>0.2</td><td>setosa</td></tr><tr><th>5</th><td>5.0</td><td>3.6</td><td>1.4</td><td>0.2</td><td>setosa</td></tr></tbody></table>"
      ],
      "text/latex": [
       "\\begin{tabular}{r|ccccc}\n",
       "\t& Sepal.Length & Sepal.Width & Petal.Length & Petal.Width & Species\\\\\n",
       "\t\\hline\n",
       "\t& Float64⍰ & Float64⍰ & Float64⍰ & Float64⍰ & String⍰\\\\\n",
       "\t\\hline\n",
       "\t1 & 5.1 & 3.5 & 1.4 & 0.2 & setosa \\\\\n",
       "\t2 & 4.9 & 3.0 & 1.4 & 0.2 & setosa \\\\\n",
       "\t3 & 4.7 & 3.2 & 1.3 & 0.2 & setosa \\\\\n",
       "\t4 & 4.6 & 3.1 & 1.5 & 0.2 & setosa \\\\\n",
       "\t5 & 5.0 & 3.6 & 1.4 & 0.2 & setosa \\\\\n",
       "\\end{tabular}\n"
      ],
      "text/plain": [
       "5×5 DataFrame\n",
       "│ Row │ Sepal.Length │ Sepal.Width │ Petal.Length │ Petal.Width │ Species │\n",
       "│     │ \u001b[90mFloat64⍰\u001b[39m     │ \u001b[90mFloat64⍰\u001b[39m    │ \u001b[90mFloat64⍰\u001b[39m     │ \u001b[90mFloat64⍰\u001b[39m    │ \u001b[90mString⍰\u001b[39m │\n",
       "├─────┼──────────────┼─────────────┼──────────────┼─────────────┼─────────┤\n",
       "│ 1   │ 5.1          │ 3.5         │ 1.4          │ 0.2         │ setosa  │\n",
       "│ 2   │ 4.9          │ 3.0         │ 1.4          │ 0.2         │ setosa  │\n",
       "│ 3   │ 4.7          │ 3.2         │ 1.3          │ 0.2         │ setosa  │\n",
       "│ 4   │ 4.6          │ 3.1         │ 1.5          │ 0.2         │ setosa  │\n",
       "│ 5   │ 5.0          │ 3.6         │ 1.4          │ 0.2         │ setosa  │"
      ]
     },
     "execution_count": 10,
     "metadata": {},
     "output_type": "execute_result"
    }
   ],
   "source": [
    "iris = CSV.read(\"data/iris.csv\")\n",
    "first(iris, 5)"
   ]
  },
  {
   "cell_type": "markdown",
   "metadata": {},
   "source": [
    "We apply the `first` function so that the cell only outputs the first 5 rows of the DataFrame. Some files, TSV for example, are similar to CSV files but use different delimeters. To load these into Julia, you can set the `delim` argument to a String containing the separator for that file. An example for a TSV file is given below."
   ]
  },
  {
   "cell_type": "code",
   "execution_count": 14,
   "metadata": {},
   "outputs": [
    {
     "data": {
      "text/html": [
       "<table class=\"data-frame\"><thead><tr><th></th><th>Sepal.Length</th><th>Sepal.Width</th><th>Petal.Length</th><th>Petal.Width</th><th>Species</th></tr><tr><th></th><th>Float64⍰</th><th>Float64⍰</th><th>Float64⍰</th><th>Float64⍰</th><th>String⍰</th></tr></thead><tbody><p>5 rows × 5 columns</p><tr><th>1</th><td>5.1</td><td>3.5</td><td>1.4</td><td>0.2</td><td>setosa</td></tr><tr><th>2</th><td>4.9</td><td>3.0</td><td>1.4</td><td>0.2</td><td>setosa</td></tr><tr><th>3</th><td>4.7</td><td>3.2</td><td>1.3</td><td>0.2</td><td>setosa</td></tr><tr><th>4</th><td>4.6</td><td>3.1</td><td>1.5</td><td>0.2</td><td>setosa</td></tr><tr><th>5</th><td>5.0</td><td>3.6</td><td>1.4</td><td>0.2</td><td>setosa</td></tr></tbody></table>"
      ],
      "text/latex": [
       "\\begin{tabular}{r|ccccc}\n",
       "\t& Sepal.Length & Sepal.Width & Petal.Length & Petal.Width & Species\\\\\n",
       "\t\\hline\n",
       "\t& Float64⍰ & Float64⍰ & Float64⍰ & Float64⍰ & String⍰\\\\\n",
       "\t\\hline\n",
       "\t1 & 5.1 & 3.5 & 1.4 & 0.2 & setosa \\\\\n",
       "\t2 & 4.9 & 3.0 & 1.4 & 0.2 & setosa \\\\\n",
       "\t3 & 4.7 & 3.2 & 1.3 & 0.2 & setosa \\\\\n",
       "\t4 & 4.6 & 3.1 & 1.5 & 0.2 & setosa \\\\\n",
       "\t5 & 5.0 & 3.6 & 1.4 & 0.2 & setosa \\\\\n",
       "\\end{tabular}\n"
      ],
      "text/plain": [
       "5×5 DataFrame\n",
       "│ Row │ Sepal.Length │ Sepal.Width │ Petal.Length │ Petal.Width │ Species │\n",
       "│     │ \u001b[90mFloat64⍰\u001b[39m     │ \u001b[90mFloat64⍰\u001b[39m    │ \u001b[90mFloat64⍰\u001b[39m     │ \u001b[90mFloat64⍰\u001b[39m    │ \u001b[90mString⍰\u001b[39m │\n",
       "├─────┼──────────────┼─────────────┼──────────────┼─────────────┼─────────┤\n",
       "│ 1   │ 5.1          │ 3.5         │ 1.4          │ 0.2         │ setosa  │\n",
       "│ 2   │ 4.9          │ 3.0         │ 1.4          │ 0.2         │ setosa  │\n",
       "│ 3   │ 4.7          │ 3.2         │ 1.3          │ 0.2         │ setosa  │\n",
       "│ 4   │ 4.6          │ 3.1         │ 1.5          │ 0.2         │ setosa  │\n",
       "│ 5   │ 5.0          │ 3.6         │ 1.4          │ 0.2         │ setosa  │"
      ]
     },
     "execution_count": 14,
     "metadata": {},
     "output_type": "execute_result"
    }
   ],
   "source": [
    "iris_tsv = CSV.read(\"data/iris.tsv\", delim=\"\\t\")\n",
    "first(iris_tsv, 5)"
   ]
  },
  {
   "cell_type": "markdown",
   "metadata": {},
   "source": [
    "It is import for this function that you append the package name `CSV` to the beginning as the Julia base package includes a `read` function that performs a different function. Other helpful keyword arguments for `CSV.read` are:\n",
    "\n",
    "| Argument | Default | Description |\n",
    "|-----|-----|-----|\n",
    "| `header` | `1` | Row index in file which contains column headers |\n",
    "| `missingstrings`, `missingstring` | `\"\"` | String or vector of strings to parse as `missing` when loading the DataFrame |\n",
    "| `delim` | `\",\"` | Value delimiter in each row |\n",
    "| `truestrings`, `falsestrings` | `nothing` | Vector of strings containing values to parse as `true` and `false`, respectively |\n",
    "| `types` | `nothing` | Vector or Dict of types to use for columns |\n",
    "| `categorical` | `false` | Bool to indicate whether or not String columns should be parsed into `CategoricalArray` |\n",
    "\n",
    "The `missingstrings` and `missingstring` arguments have to do with values that are `missing` in the data set; this is a topic that will be covered in a later section."
   ]
  },
  {
   "cell_type": "markdown",
   "metadata": {},
   "source": [
    "### Exporting Data\n",
    "\n",
    "To export a DataFrame, CSV.jl provides `CSV.write`. As with `CSV.read`, appending the `CSV` is important here, as the base package includes a `write` method as well. To write a DataFrame, pass it to `CSV.write` with a filepath as the first argument:"
   ]
  },
  {
   "cell_type": "code",
   "execution_count": 17,
   "metadata": {},
   "outputs": [
    {
     "data": {
      "text/plain": [
       "\"iris-export.csv\""
      ]
     },
     "execution_count": 17,
     "metadata": {},
     "output_type": "execute_result"
    }
   ],
   "source": [
    "CSV.write(\"export/iris-export.csv\", iris)"
   ]
  },
  {
   "cell_type": "markdown",
   "metadata": {},
   "source": [
    "`CSV.write` includes many of the same optional arguments as `CSV.read`; the main ones to consider are `delim`, `missingstring`, and `header`, the last of which allows you to overwrite the column headings in the DataFrame object that you passed to the function. "
   ]
  },
  {
   "cell_type": "markdown",
   "metadata": {},
   "source": [
    "## JSON Files\n",
    "\n",
    "### Reading Data\n",
    "\n",
    "Julia provides the JSON.jl package to parse strings formatted as JSON files. To load a JSON file using JSON.jl, the best way is to pass a filepath to `JSON.parsefile`."
   ]
  },
  {
   "cell_type": "code",
   "execution_count": 19,
   "metadata": {},
   "outputs": [],
   "source": [
    "using JSON"
   ]
  },
  {
   "cell_type": "code",
   "execution_count": 34,
   "metadata": {},
   "outputs": [
    {
     "data": {
      "text/plain": [
       "150-element Array{Any,1}:\n",
       " Dict{String,Any}(\"Sepal.Width\"=>3.5,\"Petal.Length\"=>1.4,\"Petal.Width\"=>0.2,\"Species\"=>\"setosa\",\"Sepal.Length\"=>5.1)   \n",
       " Dict{String,Any}(\"Sepal.Width\"=>3,\"Petal.Length\"=>1.4,\"Petal.Width\"=>0.2,\"Species\"=>\"setosa\",\"Sepal.Length\"=>4.9)     \n",
       " Dict{String,Any}(\"Sepal.Width\"=>3.2,\"Petal.Length\"=>1.3,\"Petal.Width\"=>0.2,\"Species\"=>\"setosa\",\"Sepal.Length\"=>4.7)   \n",
       " Dict{String,Any}(\"Sepal.Width\"=>3.1,\"Petal.Length\"=>1.5,\"Petal.Width\"=>0.2,\"Species\"=>\"setosa\",\"Sepal.Length\"=>4.6)   \n",
       " Dict{String,Any}(\"Sepal.Width\"=>3.6,\"Petal.Length\"=>1.4,\"Petal.Width\"=>0.2,\"Species\"=>\"setosa\",\"Sepal.Length\"=>5)     \n",
       " Dict{String,Any}(\"Sepal.Width\"=>3.9,\"Petal.Length\"=>1.7,\"Petal.Width\"=>0.4,\"Species\"=>\"setosa\",\"Sepal.Length\"=>5.4)   \n",
       " Dict{String,Any}(\"Sepal.Width\"=>3.4,\"Petal.Length\"=>1.4,\"Petal.Width\"=>0.3,\"Species\"=>\"setosa\",\"Sepal.Length\"=>4.6)   \n",
       " Dict{String,Any}(\"Sepal.Width\"=>3.4,\"Petal.Length\"=>1.5,\"Petal.Width\"=>0.2,\"Species\"=>\"setosa\",\"Sepal.Length\"=>5)     \n",
       " Dict{String,Any}(\"Sepal.Width\"=>2.9,\"Petal.Length\"=>1.4,\"Petal.Width\"=>0.2,\"Species\"=>\"setosa\",\"Sepal.Length\"=>4.4)   \n",
       " Dict{String,Any}(\"Sepal.Width\"=>3.1,\"Petal.Length\"=>1.5,\"Petal.Width\"=>0.1,\"Species\"=>\"setosa\",\"Sepal.Length\"=>4.9)   \n",
       " Dict{String,Any}(\"Sepal.Width\"=>3.7,\"Petal.Length\"=>1.5,\"Petal.Width\"=>0.2,\"Species\"=>\"setosa\",\"Sepal.Length\"=>5.4)   \n",
       " Dict{String,Any}(\"Sepal.Width\"=>3.4,\"Petal.Length\"=>1.6,\"Petal.Width\"=>0.2,\"Species\"=>\"setosa\",\"Sepal.Length\"=>4.8)   \n",
       " Dict{String,Any}(\"Sepal.Width\"=>3,\"Petal.Length\"=>1.4,\"Petal.Width\"=>0.1,\"Species\"=>\"setosa\",\"Sepal.Length\"=>4.8)     \n",
       " ⋮                                                                                                                     \n",
       " Dict{String,Any}(\"Sepal.Width\"=>3,\"Petal.Length\"=>4.8,\"Petal.Width\"=>1.8,\"Species\"=>\"virginica\",\"Sepal.Length\"=>6)    \n",
       " Dict{String,Any}(\"Sepal.Width\"=>3.1,\"Petal.Length\"=>5.4,\"Petal.Width\"=>2.1,\"Species\"=>\"virginica\",\"Sepal.Length\"=>6.9)\n",
       " Dict{String,Any}(\"Sepal.Width\"=>3.1,\"Petal.Length\"=>5.6,\"Petal.Width\"=>2.4,\"Species\"=>\"virginica\",\"Sepal.Length\"=>6.7)\n",
       " Dict{String,Any}(\"Sepal.Width\"=>3.1,\"Petal.Length\"=>5.1,\"Petal.Width\"=>2.3,\"Species\"=>\"virginica\",\"Sepal.Length\"=>6.9)\n",
       " Dict{String,Any}(\"Sepal.Width\"=>2.7,\"Petal.Length\"=>5.1,\"Petal.Width\"=>1.9,\"Species\"=>\"virginica\",\"Sepal.Length\"=>5.8)\n",
       " Dict{String,Any}(\"Sepal.Width\"=>3.2,\"Petal.Length\"=>5.9,\"Petal.Width\"=>2.3,\"Species\"=>\"virginica\",\"Sepal.Length\"=>6.8)\n",
       " Dict{String,Any}(\"Sepal.Width\"=>3.3,\"Petal.Length\"=>5.7,\"Petal.Width\"=>2.5,\"Species\"=>\"virginica\",\"Sepal.Length\"=>6.7)\n",
       " Dict{String,Any}(\"Sepal.Width\"=>3,\"Petal.Length\"=>5.2,\"Petal.Width\"=>2.3,\"Species\"=>\"virginica\",\"Sepal.Length\"=>6.7)  \n",
       " Dict{String,Any}(\"Sepal.Width\"=>2.5,\"Petal.Length\"=>5,\"Petal.Width\"=>1.9,\"Species\"=>\"virginica\",\"Sepal.Length\"=>6.3)  \n",
       " Dict{String,Any}(\"Sepal.Width\"=>3,\"Petal.Length\"=>5.2,\"Petal.Width\"=>2,\"Species\"=>\"virginica\",\"Sepal.Length\"=>6.5)    \n",
       " Dict{String,Any}(\"Sepal.Width\"=>3.4,\"Petal.Length\"=>5.4,\"Petal.Width\"=>2.3,\"Species\"=>\"virginica\",\"Sepal.Length\"=>6.2)\n",
       " Dict{String,Any}(\"Sepal.Width\"=>3,\"Petal.Length\"=>5.1,\"Petal.Width\"=>1.8,\"Species\"=>\"virginica\",\"Sepal.Length\"=>5.9)  "
      ]
     },
     "execution_count": 34,
     "metadata": {},
     "output_type": "execute_result"
    }
   ],
   "source": [
    "parsed_iris = JSON.parsefile(\"data/iris.json\")"
   ]
  },
  {
   "cell_type": "markdown",
   "metadata": {},
   "source": [
    "Sadly, there isn't yet an package which has a pipeline to get from an array of Dicts to a DataFrame, so we need to build our own function. The function defined below will take in a filepath and read in the JSON file and then use a Dict and array comprehensions to create a DataFrame."
   ]
  },
  {
   "cell_type": "code",
   "execution_count": 32,
   "metadata": {},
   "outputs": [
    {
     "data": {
      "text/html": [
       "<table class=\"data-frame\"><thead><tr><th></th><th>Petal.Length</th><th>Petal.Width</th><th>Sepal.Length</th><th>Sepal.Width</th><th>Species</th></tr><tr><th></th><th>Real</th><th>Real</th><th>Real</th><th>Real</th><th>String</th></tr></thead><tbody><p>5 rows × 5 columns</p><tr><th>1</th><td>1.4</td><td>0.2</td><td>5.1</td><td>3.5</td><td>setosa</td></tr><tr><th>2</th><td>1.4</td><td>0.2</td><td>4.9</td><td>3</td><td>setosa</td></tr><tr><th>3</th><td>1.3</td><td>0.2</td><td>4.7</td><td>3.2</td><td>setosa</td></tr><tr><th>4</th><td>1.5</td><td>0.2</td><td>4.6</td><td>3.1</td><td>setosa</td></tr><tr><th>5</th><td>1.4</td><td>0.2</td><td>5</td><td>3.6</td><td>setosa</td></tr></tbody></table>"
      ],
      "text/latex": [
       "\\begin{tabular}{r|ccccc}\n",
       "\t& Petal.Length & Petal.Width & Sepal.Length & Sepal.Width & Species\\\\\n",
       "\t\\hline\n",
       "\t& Real & Real & Real & Real & String\\\\\n",
       "\t\\hline\n",
       "\t1 & 1.4 & 0.2 & 5.1 & 3.5 & setosa \\\\\n",
       "\t2 & 1.4 & 0.2 & 4.9 & 3 & setosa \\\\\n",
       "\t3 & 1.3 & 0.2 & 4.7 & 3.2 & setosa \\\\\n",
       "\t4 & 1.5 & 0.2 & 4.6 & 3.1 & setosa \\\\\n",
       "\t5 & 1.4 & 0.2 & 5 & 3.6 & setosa \\\\\n",
       "\\end{tabular}\n"
      ],
      "text/plain": [
       "5×5 DataFrame\n",
       "│ Row │ Petal.Length │ Petal.Width │ Sepal.Length │ Sepal.Width │ Species │\n",
       "│     │ \u001b[90mReal\u001b[39m         │ \u001b[90mReal\u001b[39m        │ \u001b[90mReal\u001b[39m         │ \u001b[90mReal\u001b[39m        │ \u001b[90mString\u001b[39m  │\n",
       "├─────┼──────────────┼─────────────┼──────────────┼─────────────┼─────────┤\n",
       "│ 1   │ 1.4          │ 0.2         │ 5.1          │ 3.5         │ setosa  │\n",
       "│ 2   │ 1.4          │ 0.2         │ 4.9          │ 3           │ setosa  │\n",
       "│ 3   │ 1.3          │ 0.2         │ 4.7          │ 3.2         │ setosa  │\n",
       "│ 4   │ 1.5          │ 0.2         │ 4.6          │ 3.1         │ setosa  │\n",
       "│ 5   │ 1.4          │ 0.2         │ 5            │ 3.6         │ setosa  │"
      ]
     },
     "execution_count": 32,
     "metadata": {},
     "output_type": "execute_result"
    }
   ],
   "source": [
    "function load_json(path)\n",
    "    dictarr = JSON.parsefile(path)\n",
    "    df_dict = Dict()\n",
    "    for col in keys(dictarr[1])\n",
    "        df_dict[col] = [row[col] for row in dictarr]\n",
    "    end\n",
    "    return DataFrame(df_dict)\n",
    "end\n",
    "\n",
    "iris_json = load_json(\"data/iris.json\")\n",
    "first(iris_json, 5)"
   ]
  },
  {
   "cell_type": "markdown",
   "metadata": {},
   "source": [
    "As you can see, our algorithm is farily simple. We simple load the array of Dicts, create a new, empty Dict, and then iterate through the columns (encoded as the keys of each Dict) and use an array comprehension to extract the values for that column from each row. We then pass this new Dict to `DataFrame`, which constructs the DataFrame that we want.\n",
    "\n",
    "### Writing Data\n",
    "\n",
    "To write a JSON file, you need to load a Dict into `JSON.json` and write the string that is returned to a file."
   ]
  },
  {
   "cell_type": "code",
   "execution_count": 58,
   "metadata": {},
   "outputs": [
    {
     "data": {
      "text/plain": [
       "150-element Array{Any,1}:\n",
       " Dict{Symbol,Any}(Symbol(\"Petal.Length\")=>1.4,Symbol(\"Sepal.Width\")=>3.5,Symbol(\"Sepal.Length\")=>5.1,Symbol(\"Petal.Width\")=>0.2,:Species=>\"setosa\")   \n",
       " Dict{Symbol,Any}(Symbol(\"Petal.Length\")=>1.4,Symbol(\"Sepal.Width\")=>3,Symbol(\"Sepal.Length\")=>4.9,Symbol(\"Petal.Width\")=>0.2,:Species=>\"setosa\")     \n",
       " Dict{Symbol,Any}(Symbol(\"Petal.Length\")=>1.3,Symbol(\"Sepal.Width\")=>3.2,Symbol(\"Sepal.Length\")=>4.7,Symbol(\"Petal.Width\")=>0.2,:Species=>\"setosa\")   \n",
       " Dict{Symbol,Any}(Symbol(\"Petal.Length\")=>1.5,Symbol(\"Sepal.Width\")=>3.1,Symbol(\"Sepal.Length\")=>4.6,Symbol(\"Petal.Width\")=>0.2,:Species=>\"setosa\")   \n",
       " Dict{Symbol,Any}(Symbol(\"Petal.Length\")=>1.4,Symbol(\"Sepal.Width\")=>3.6,Symbol(\"Sepal.Length\")=>5,Symbol(\"Petal.Width\")=>0.2,:Species=>\"setosa\")     \n",
       " Dict{Symbol,Any}(Symbol(\"Petal.Length\")=>1.7,Symbol(\"Sepal.Width\")=>3.9,Symbol(\"Sepal.Length\")=>5.4,Symbol(\"Petal.Width\")=>0.4,:Species=>\"setosa\")   \n",
       " Dict{Symbol,Any}(Symbol(\"Petal.Length\")=>1.4,Symbol(\"Sepal.Width\")=>3.4,Symbol(\"Sepal.Length\")=>4.6,Symbol(\"Petal.Width\")=>0.3,:Species=>\"setosa\")   \n",
       " Dict{Symbol,Any}(Symbol(\"Petal.Length\")=>1.5,Symbol(\"Sepal.Width\")=>3.4,Symbol(\"Sepal.Length\")=>5,Symbol(\"Petal.Width\")=>0.2,:Species=>\"setosa\")     \n",
       " Dict{Symbol,Any}(Symbol(\"Petal.Length\")=>1.4,Symbol(\"Sepal.Width\")=>2.9,Symbol(\"Sepal.Length\")=>4.4,Symbol(\"Petal.Width\")=>0.2,:Species=>\"setosa\")   \n",
       " Dict{Symbol,Any}(Symbol(\"Petal.Length\")=>1.5,Symbol(\"Sepal.Width\")=>3.1,Symbol(\"Sepal.Length\")=>4.9,Symbol(\"Petal.Width\")=>0.1,:Species=>\"setosa\")   \n",
       " Dict{Symbol,Any}(Symbol(\"Petal.Length\")=>1.5,Symbol(\"Sepal.Width\")=>3.7,Symbol(\"Sepal.Length\")=>5.4,Symbol(\"Petal.Width\")=>0.2,:Species=>\"setosa\")   \n",
       " Dict{Symbol,Any}(Symbol(\"Petal.Length\")=>1.6,Symbol(\"Sepal.Width\")=>3.4,Symbol(\"Sepal.Length\")=>4.8,Symbol(\"Petal.Width\")=>0.2,:Species=>\"setosa\")   \n",
       " Dict{Symbol,Any}(Symbol(\"Petal.Length\")=>1.4,Symbol(\"Sepal.Width\")=>3,Symbol(\"Sepal.Length\")=>4.8,Symbol(\"Petal.Width\")=>0.1,:Species=>\"setosa\")     \n",
       " ⋮                                                                                                                                                    \n",
       " Dict{Symbol,Any}(Symbol(\"Petal.Length\")=>4.8,Symbol(\"Sepal.Width\")=>3,Symbol(\"Sepal.Length\")=>6,Symbol(\"Petal.Width\")=>1.8,:Species=>\"virginica\")    \n",
       " Dict{Symbol,Any}(Symbol(\"Petal.Length\")=>5.4,Symbol(\"Sepal.Width\")=>3.1,Symbol(\"Sepal.Length\")=>6.9,Symbol(\"Petal.Width\")=>2.1,:Species=>\"virginica\")\n",
       " Dict{Symbol,Any}(Symbol(\"Petal.Length\")=>5.6,Symbol(\"Sepal.Width\")=>3.1,Symbol(\"Sepal.Length\")=>6.7,Symbol(\"Petal.Width\")=>2.4,:Species=>\"virginica\")\n",
       " Dict{Symbol,Any}(Symbol(\"Petal.Length\")=>5.1,Symbol(\"Sepal.Width\")=>3.1,Symbol(\"Sepal.Length\")=>6.9,Symbol(\"Petal.Width\")=>2.3,:Species=>\"virginica\")\n",
       " Dict{Symbol,Any}(Symbol(\"Petal.Length\")=>5.1,Symbol(\"Sepal.Width\")=>2.7,Symbol(\"Sepal.Length\")=>5.8,Symbol(\"Petal.Width\")=>1.9,:Species=>\"virginica\")\n",
       " Dict{Symbol,Any}(Symbol(\"Petal.Length\")=>5.9,Symbol(\"Sepal.Width\")=>3.2,Symbol(\"Sepal.Length\")=>6.8,Symbol(\"Petal.Width\")=>2.3,:Species=>\"virginica\")\n",
       " Dict{Symbol,Any}(Symbol(\"Petal.Length\")=>5.7,Symbol(\"Sepal.Width\")=>3.3,Symbol(\"Sepal.Length\")=>6.7,Symbol(\"Petal.Width\")=>2.5,:Species=>\"virginica\")\n",
       " Dict{Symbol,Any}(Symbol(\"Petal.Length\")=>5.2,Symbol(\"Sepal.Width\")=>3,Symbol(\"Sepal.Length\")=>6.7,Symbol(\"Petal.Width\")=>2.3,:Species=>\"virginica\")  \n",
       " Dict{Symbol,Any}(Symbol(\"Petal.Length\")=>5,Symbol(\"Sepal.Width\")=>2.5,Symbol(\"Sepal.Length\")=>6.3,Symbol(\"Petal.Width\")=>1.9,:Species=>\"virginica\")  \n",
       " Dict{Symbol,Any}(Symbol(\"Petal.Length\")=>5.2,Symbol(\"Sepal.Width\")=>3,Symbol(\"Sepal.Length\")=>6.5,Symbol(\"Petal.Width\")=>2,:Species=>\"virginica\")    \n",
       " Dict{Symbol,Any}(Symbol(\"Petal.Length\")=>5.4,Symbol(\"Sepal.Width\")=>3.4,Symbol(\"Sepal.Length\")=>6.2,Symbol(\"Petal.Width\")=>2.3,:Species=>\"virginica\")\n",
       " Dict{Symbol,Any}(Symbol(\"Petal.Length\")=>5.1,Symbol(\"Sepal.Width\")=>3,Symbol(\"Sepal.Length\")=>5.9,Symbol(\"Petal.Width\")=>1.8,:Species=>\"virginica\")  "
      ]
     },
     "execution_count": 58,
     "metadata": {},
     "output_type": "execute_result"
    }
   ],
   "source": [
    "function to_array(df)\n",
    "    arr = []\n",
    "    for row in 1:size(df, 1)\n",
    "        push!(arr, Dict((col => df[row, col] for col in names(df))))\n",
    "    end\n",
    "    return arr\n",
    "end\n",
    "\n",
    "to_array(iris_json)"
   ]
  },
  {
   "cell_type": "markdown",
   "metadata": {},
   "source": [
    "To write this to a JSON file, we can use `JSON.json` in conjuction with the base package's `write` method."
   ]
  },
  {
   "cell_type": "code",
   "execution_count": 62,
   "metadata": {},
   "outputs": [
    {
     "data": {
      "text/plain": [
       "14459"
      ]
     },
     "execution_count": 62,
     "metadata": {},
     "output_type": "execute_result"
    }
   ],
   "source": [
    "json_string = JSON.json(to_array(iris_json))\n",
    "write(\"export/iris-export.json\", json_string)"
   ]
  },
  {
   "cell_type": "markdown",
   "metadata": {},
   "source": [
    "The output that we see above is the number of bytes in the file that we've just written.\n",
    "\n",
    "### Reproducing the Pipeline\n",
    "\n",
    "For ease of reproducing this pipeline in your future data science endeavors, we include this pipeline in the [json_pipeline.jl](json_pipeline.jl) file, that you may make use of as you need to. To use it, simply load the file from wherever you have it downloaded using `include`."
   ]
  },
  {
   "cell_type": "code",
   "execution_count": 65,
   "metadata": {},
   "outputs": [
    {
     "data": {
      "text/plain": [
       "write_json (generic function with 1 method)"
      ]
     },
     "execution_count": 65,
     "metadata": {},
     "output_type": "execute_result"
    }
   ],
   "source": [
    "include(\"json_pipeline.jl\")"
   ]
  },
  {
   "cell_type": "markdown",
   "metadata": {},
   "source": [
    "The file includes the functions `load_json` and `write_json`, as well as the helper function `to_array`. Read their docstrings for more information on each function."
   ]
  },
  {
   "cell_type": "markdown",
   "metadata": {},
   "source": [
    "## Exercises\n",
    "\n",
    "**Exercise 1.3.1:** Write code to open the following text file as a DataFrame. The assume the filename is `data.txt`.\n",
    "\n",
    "```\n",
    "Col_1|Col_2|Col_3\n",
    "1|2|3\n",
    "4|5|6\n",
    "```\n",
    "\n",
    "**Exercise 1.3.2:** How would you adapt the `load_json` function if the data in your JSON file as oriented as a dictionary of columns to arrays of values, e.g.\n",
    "\n",
    "```\n",
    "{ \n",
    "    \"Col_1\" : [1, 4],\n",
    "    \"Col_2\" : [2, 5],\n",
    "    \"Col_3\" : [3, 6]\n",
    "}\n",
    "```"
   ]
  }
 ],
 "metadata": {
  "kernelspec": {
   "display_name": "Julia 1.1.0",
   "language": "julia",
   "name": "julia-1.1"
  },
  "language_info": {
   "file_extension": ".jl",
   "mimetype": "application/julia",
   "name": "julia",
   "version": "1.1.0"
  }
 },
 "nbformat": 4,
 "nbformat_minor": 2
}
