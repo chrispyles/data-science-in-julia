{
 "cells": [
  {
   "cell_type": "markdown",
   "metadata": {},
   "source": [
    "# Exercise Solutions: Functions and Control Flow\n",
    "\n",
    "This section contains solutions to the end-of-section exercises found in this book for the **Functions and Control Flow** chapter."
   ]
  },
  {
   "cell_type": "markdown",
   "metadata": {},
   "source": [
    "### 2.1 Functions\n",
    "\n",
    "**Exercise 2.1.1:** Define a function with the signature below that returns $ax^2 + bx + c$.\n",
    "\n",
    "```julia\n",
    "function quad(a, b, c, x)\n",
    "```"
   ]
  },
  {
   "cell_type": "code",
   "execution_count": 1,
   "metadata": {},
   "outputs": [
    {
     "data": {
      "text/plain": [
       "quad (generic function with 1 method)"
      ]
     },
     "execution_count": 1,
     "metadata": {},
     "output_type": "execute_result"
    }
   ],
   "source": [
    "function quad(a, b, c, x)\n",
    "    return a*x^2 + b*x + c\n",
    "end"
   ]
  },
  {
   "cell_type": "markdown",
   "metadata": {},
   "source": [
    "**Exercise 2.1.2:** Define a higher order function `make_quad(a, b, c)` with the signature below that accepts `Int64`s as arguments and returns a function with the signature `f(x)` that returns $ax^2 + bx + c$."
   ]
  },
  {
   "cell_type": "code",
   "execution_count": 2,
   "metadata": {},
   "outputs": [
    {
     "data": {
      "text/plain": [
       "make_quad (generic function with 1 method)"
      ]
     },
     "execution_count": 2,
     "metadata": {},
     "output_type": "execute_result"
    }
   ],
   "source": [
    "function make_quad(a::Int64, b::Int64, c::Int64)\n",
    "    function my_quad(x)\n",
    "        return a*x^2 + b*x + c\n",
    "    end\n",
    "    return my_quad\n",
    "end"
   ]
  },
  {
   "cell_type": "markdown",
   "metadata": {},
   "source": [
    "**Exercise 2.1.3:** Create another function `make_quad(a, b, c)` as before that accepts 64-bit numeric types for all of its arguments (i.e. integers _and_ floats). Implicily return an anonymous function in this implementation."
   ]
  },
  {
   "cell_type": "code",
   "execution_count": 3,
   "metadata": {},
   "outputs": [
    {
     "data": {
      "text/plain": [
       "make_quad (generic function with 2 methods)"
      ]
     },
     "execution_count": 3,
     "metadata": {},
     "output_type": "execute_result"
    }
   ],
   "source": [
    "function make_quad(a::Union{Int64,Float64}, b::Union{Int64,Float64}, c::Union{Int64,Float64})\n",
    "    (x) -> a*x^2 + b*x + c\n",
    "end"
   ]
  },
  {
   "cell_type": "markdown",
   "metadata": {},
   "source": [
    "**Exercise 2.1.4:** Finally, create a function `make_quad(a, b, c)` that prints the error `\"Argument(s) not acceptable type.\"` if the arguments are not 64-bit numeric types."
   ]
  },
  {
   "cell_type": "code",
   "execution_count": 4,
   "metadata": {},
   "outputs": [
    {
     "data": {
      "text/plain": [
       "make_quad (generic function with 3 methods)"
      ]
     },
     "execution_count": 4,
     "metadata": {},
     "output_type": "execute_result"
    }
   ],
   "source": [
    "function make_quad(a, b, c)\n",
    "    println(\"Argument(s) not acceptable type.\")\n",
    "end"
   ]
  },
  {
   "cell_type": "markdown",
   "metadata": {},
   "source": [
    " "
   ]
  }
 ],
 "metadata": {
  "kernelspec": {
   "display_name": "Julia 1.1.0",
   "language": "julia",
   "name": "julia-1.1"
  },
  "language_info": {
   "file_extension": ".jl",
   "mimetype": "application/julia",
   "name": "julia",
   "version": "1.1.0"
  }
 },
 "nbformat": 4,
 "nbformat_minor": 2
}
