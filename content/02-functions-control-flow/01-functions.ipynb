{
 "cells": [
  {
   "cell_type": "markdown",
   "metadata": {},
   "source": [
    "# Functions\n",
    "\n",
    "In this section, we cover how to define and use functions in Julia. We also cover named arguments, default values, and functions with different argument types."
   ]
  },
  {
   "cell_type": "markdown",
   "metadata": {},
   "source": [
    "## Defining Functions\n",
    "\n",
    "Functions have a very similar definition syntax. They start with the keyword `function` followed by the name and arguments, then the body, and finally the `end` keyword:\n",
    "\n",
    "```julia\n",
    "function name(args)\n",
    "    # this is the function body\n",
    "    # stuff gets done here\n",
    "end\n",
    "```\n",
    "\n",
    "For example, if we wanted to define a function `double` which doubles its argument, we would do something like this:"
   ]
  },
  {
   "cell_type": "code",
   "execution_count": 2,
   "metadata": {},
   "outputs": [
    {
     "data": {
      "text/plain": [
       "4"
      ]
     },
     "execution_count": 2,
     "metadata": {},
     "output_type": "execute_result"
    }
   ],
   "source": [
    "function double(x)\n",
    "    2*x\n",
    "end\n",
    "\n",
    "double(2)"
   ]
  },
  {
   "cell_type": "markdown",
   "metadata": {},
   "source": [
    "### Implicit and Explicit Returns\n",
    "\n",
    "You may notice that in our definition of `double`, we didn't need to include a keyword such as `return` to tell Julia what the output is. Julia supports lazy typing, aspects of which you've seen already (e.g. defaulting to 64-bit numeric types), and as such it assumes that the last line executed is what you want returned if not keyword is included. If you so desire, you can include the `return` keyword and nothing will change:"
   ]
  },
  {
   "cell_type": "code",
   "execution_count": 3,
   "metadata": {},
   "outputs": [
    {
     "data": {
      "text/plain": [
       "4"
      ]
     },
     "execution_count": 3,
     "metadata": {},
     "output_type": "execute_result"
    }
   ],
   "source": [
    "function return_double(x)\n",
    "    return 2*x\n",
    "end\n",
    "\n",
    "return_double(2)"
   ]
  },
  {
   "cell_type": "markdown",
   "metadata": {},
   "source": [
    "For the sake of consistency and clarity of code, I will be using explicit returns in this textbook."
   ]
  },
  {
   "cell_type": "markdown",
   "metadata": {},
   "source": [
    "## Named Arguments and Default Values\n",
    "\n",
    "In Julia, it is possible to have named arguments with default values. Keyword parameters are separated from non-keyword paremeters using a semicolon in the function definition, and their default values are set with the assignment operator `=`, as in many other languages."
   ]
  },
  {
   "cell_type": "code",
   "execution_count": 23,
   "metadata": {},
   "outputs": [
    {
     "data": {
      "text/plain": [
       "(4, 8)"
      ]
     },
     "execution_count": 23,
     "metadata": {},
     "output_type": "execute_result"
    }
   ],
   "source": [
    "function pow(base; exp=2)\n",
    "    return base ^ exp\n",
    "end\n",
    "\n",
    "pow(2), pow(2, exp=3)"
   ]
  },
  {
   "cell_type": "markdown",
   "metadata": {},
   "source": [
    "When an argument is keyworded, Julia will not allow you to pass it positionally. This means that the call `pow(2, 3)` in the example above would result in an error."
   ]
  },
  {
   "cell_type": "code",
   "execution_count": 24,
   "metadata": {},
   "outputs": [
    {
     "ename": "MethodError",
     "evalue": "MethodError: no method matching pow(::Int64, ::Int64)\nClosest candidates are:\n  pow(::Any; exp) at In[23]:2",
     "output_type": "error",
     "traceback": [
      "MethodError: no method matching pow(::Int64, ::Int64)\nClosest candidates are:\n  pow(::Any; exp) at In[23]:2",
      "",
      "Stacktrace:",
      " [1] top-level scope at In[24]:1"
     ]
    }
   ],
   "source": [
    "pow(2, 3)"
   ]
  },
  {
   "cell_type": "markdown",
   "metadata": {},
   "source": [
    "```julia\n",
    "MethodError: no method matching pow(::Int64, ::Int64)\n",
    "Closest candidates are:\n",
    "  pow(::Any; exp) at In[]:2\n",
    "\n",
    "Stacktrace:\n",
    " [1] top-level scope at In[]:1\n",
    "```"
   ]
  },
  {
   "cell_type": "markdown",
   "metadata": {},
   "source": [
    "It is possible, although **not recommended**, to include keyworded arguments before or without a semicolon, which will allow them to retain their default value but have their arguments passed positionally also."
   ]
  },
  {
   "cell_type": "code",
   "execution_count": 27,
   "metadata": {},
   "outputs": [
    {
     "data": {
      "text/plain": [
       "8"
      ]
     },
     "execution_count": 27,
     "metadata": {},
     "output_type": "execute_result"
    }
   ],
   "source": [
    "# NOT recommended\n",
    "function pow(base, exp=2)\n",
    "    return base ^ exp\n",
    "end\n",
    "\n",
    "pow(2, 3)"
   ]
  },
  {
   "cell_type": "markdown",
   "metadata": {},
   "source": [
    "## Input Types\n",
    "\n",
    "While Julia does not require it, it is possible to specify the input type of arguments when defining a function. This is useful for overriding functions for custom classes (called `struct`s in Julia) and for altering the behavior of a function depending upon its input.\n",
    "\n",
    "Let's consider the case when we want to return an _integer_ doubled even when a different numeric type (e.g. a float) is passed as the argument. We would want to construct our function to accept both integers and floats, but behave differently when the input is an integer as opposed to a float. The type of an argument is specified in the function signature using the `::` syntax:\n",
    "\n",
    "```julia\n",
    "function my_func(arg_1::Type, arg_2::Type)\n",
    "```\n",
    "\n",
    "Continuing our `double` example from earlier, consider the following definitions of `int_double`:"
   ]
  },
  {
   "cell_type": "code",
   "execution_count": 1,
   "metadata": {},
   "outputs": [
    {
     "data": {
      "text/plain": [
       "4"
      ]
     },
     "execution_count": 1,
     "metadata": {},
     "output_type": "execute_result"
    }
   ],
   "source": [
    "function int_double(x::Int64)\n",
    "    return 2*x\n",
    "end\n",
    "\n",
    "int_double(2)"
   ]
  },
  {
   "cell_type": "code",
   "execution_count": 7,
   "metadata": {},
   "outputs": [
    {
     "data": {
      "text/plain": [
       "4"
      ]
     },
     "execution_count": 7,
     "metadata": {},
     "output_type": "execute_result"
    }
   ],
   "source": [
    "function int_double(x::Float64)\n",
    "    x = Int64(floor(x))\n",
    "    return 2 * x\n",
    "end\n",
    "\n",
    "int_double(2.2)"
   ]
  },
  {
   "cell_type": "markdown",
   "metadata": {},
   "source": [
    "In the second implementation of `int_double`, we convert our argument `x` to an integer. (Note that we call `floor` on `x` first; if we had not done this, we would have gotten an error from Julia because you can't convert floats to integers if the float has a nonzero fractional part.)\n",
    "\n",
    "One thing to consider when you construct a function that specifies input types is that we get errors when calling the method on types that are not covered in the definitions."
   ]
  },
  {
   "cell_type": "code",
   "execution_count": 9,
   "metadata": {},
   "outputs": [
    {
     "ename": "MethodError",
     "evalue": "MethodError: no method matching int_double(::Float32)\nClosest candidates are:\n  int_double(!Matched::Float64) at In[7]:2\n  int_double(!Matched::Int64) at In[1]:2",
     "output_type": "error",
     "traceback": [
      "MethodError: no method matching int_double(::Float32)\nClosest candidates are:\n  int_double(!Matched::Float64) at In[7]:2\n  int_double(!Matched::Int64) at In[1]:2",
      "",
      "Stacktrace:",
      " [1] top-level scope at In[9]:1"
     ]
    }
   ],
   "source": [
    "int_double(Float32(2.2))"
   ]
  },
  {
   "cell_type": "markdown",
   "metadata": {},
   "source": [
    "<!-- error from above call -->\n",
    "\n",
    "```julia\n",
    "MethodError: no method matching int_double(::Float32)\n",
    "Closest candidates are:\n",
    "  int_double(!Matched::Float64) at In[]:2\n",
    "  int_double(!Matched::Int64) at In[]:2\n",
    "\n",
    "Stacktrace:\n",
    " [1] top-level scope at In[]:1\n",
    "```"
   ]
  },
  {
   "cell_type": "markdown",
   "metadata": {},
   "source": [
    "This happens because we have not defined an `int_double` function with the signature `int_double(::Float32)`. One way of alleviating a subset of these issues is to use unions of types, which are defined using `Union{}` syntax. Any type listed in the union will be accepted as a valid argument for that function."
   ]
  },
  {
   "cell_type": "code",
   "execution_count": 17,
   "metadata": {},
   "outputs": [
    {
     "data": {
      "text/plain": [
       "(4, 4)"
      ]
     },
     "execution_count": 17,
     "metadata": {},
     "output_type": "execute_result"
    }
   ],
   "source": [
    "function int_double(x::Union{Int64,Int32})\n",
    "    return 2*x\n",
    "end\n",
    "\n",
    "function int_double(x::Union{Float64,Float32})\n",
    "    x = Int(floor(x))\n",
    "    return 2*x\n",
    "end\n",
    "\n",
    "int_double(Int32(2)), int_double(Float32(2.2))"
   ]
  },
  {
   "cell_type": "markdown",
   "metadata": {},
   "source": [
    "Another way to ensure that you don't run into errors is to provide a final method with no type specification that does something else with the input, or prints an error message."
   ]
  },
  {
   "cell_type": "code",
   "execution_count": 20,
   "metadata": {},
   "outputs": [
    {
     "name": "stdout",
     "output_type": "stream",
     "text": [
      "Argument is not a valid type.\n",
      "Argument is not a valid type.\n"
     ]
    }
   ],
   "source": [
    "function int_double(x)\n",
    "    println(\"Argument is not a valid type.\")\n",
    "end\n",
    "\n",
    "int_double(\"2\"), int_double(Int8(2));"
   ]
  },
  {
   "cell_type": "markdown",
   "metadata": {},
   "source": [
    "Julia checks the functions with specified types before going to the generic, so our `int_double(2.2)` will still work."
   ]
  },
  {
   "cell_type": "code",
   "execution_count": 21,
   "metadata": {},
   "outputs": [
    {
     "data": {
      "text/plain": [
       "4"
      ]
     },
     "execution_count": 21,
     "metadata": {},
     "output_type": "execute_result"
    }
   ],
   "source": [
    "int_double(2.2)"
   ]
  },
  {
   "cell_type": "code",
   "execution_count": null,
   "metadata": {},
   "outputs": [],
   "source": []
  },
  {
   "cell_type": "code",
   "execution_count": null,
   "metadata": {},
   "outputs": [],
   "source": []
  },
  {
   "cell_type": "code",
   "execution_count": null,
   "metadata": {},
   "outputs": [],
   "source": []
  },
  {
   "cell_type": "code",
   "execution_count": null,
   "metadata": {},
   "outputs": [],
   "source": []
  },
  {
   "cell_type": "markdown",
   "metadata": {},
   "source": [
    " "
   ]
  }
 ],
 "metadata": {
  "kernelspec": {
   "display_name": "Julia 1.1.0",
   "language": "julia",
   "name": "julia-1.1"
  },
  "language_info": {
   "file_extension": ".jl",
   "mimetype": "application/julia",
   "name": "julia",
   "version": "1.1.0"
  }
 },
 "nbformat": 4,
 "nbformat_minor": 2
}
