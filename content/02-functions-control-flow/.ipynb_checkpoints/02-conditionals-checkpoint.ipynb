{
 "cells": [
  {
   "cell_type": "markdown",
   "metadata": {},
   "source": [
    "# Conditionals\n",
    "\n",
    "This section covers the if-else statement in Julia and the ternary operator, and contains a short discussion of short-circuit evaluation in Julia."
   ]
  },
  {
   "cell_type": "markdown",
   "metadata": {},
   "source": [
    "## If-Else Statements\n",
    "\n",
    "Julia conditionals are comprised of an `if` statement and and optional `else` statement, followed by the `end` keyword. The `if` statement requires a boolean predicate value.\n",
    "\n",
    "```julia\n",
    "if boolean\n",
    "    # do something\n",
    "else\n",
    "    # do something else\n",
    "end\n",
    "```"
   ]
  },
  {
   "cell_type": "code",
   "execution_count": 2,
   "metadata": {},
   "outputs": [
    {
     "name": "stdout",
     "output_type": "stream",
     "text": [
      "true"
     ]
    }
   ],
   "source": [
    "if 1 < 2\n",
    "    print(\"true\")\n",
    "else\n",
    "    print(\"false\")\n",
    "end"
   ]
  },
  {
   "cell_type": "markdown",
   "metadata": {},
   "source": [
    "### Else If\n",
    "\n",
    "It is also possible to provide `elseif` clauses to the conditional to check for mutiple possible outcomes."
   ]
  },
  {
   "cell_type": "code",
   "execution_count": 5,
   "metadata": {},
   "outputs": [
    {
     "name": "stdout",
     "output_type": "stream",
     "text": [
      "3"
     ]
    }
   ],
   "source": [
    "number = \"three\"\n",
    "\n",
    "if number == \"one\"\n",
    "    print(1)\n",
    "elseif number == \"two\"\n",
    "    print(2)\n",
    "elseif number == \"three\"\n",
    "    print(3)\n",
    "elseif number == \"four\"\n",
    "    print(4)\n",
    "else\n",
    "    print(\"not 1, 2, 3, or 4\")\n",
    "end"
   ]
  },
  {
   "cell_type": "markdown",
   "metadata": {},
   "source": [
    "## Ternary Operator\n",
    "\n",
    "For quick-and-dirty evaluations, Julia provides a ternary operator which is similar to those of many other languages. It uses `? :` syntax:\n",
    "\n",
    "```julia\n",
    "predicate ? value_if_true : value_if_false\n",
    "```\n",
    "\n",
    "For example, you could assign a value based on whether or not some other value is even or odd:"
   ]
  },
  {
   "cell_type": "code",
   "execution_count": 6,
   "metadata": {},
   "outputs": [
    {
     "data": {
      "text/plain": [
       "0"
      ]
     },
     "execution_count": 6,
     "metadata": {},
     "output_type": "execute_result"
    }
   ],
   "source": [
    "x = 3\n",
    "y = x % 2 == 0 ? 1 : 0"
   ]
  },
  {
   "cell_type": "markdown",
   "metadata": {},
   "source": [
    "## Short-Circuit Evaluation\n",
    "\n",
    "Finally, Julia short-circuits evaluation of compound expressions using `&&` and `||` as in most other languages:\n",
    "\n",
    "* Evaluation of `A && B` stops if `A` is `false` and returns `false`.\n",
    "* Evaluation of `A || B` stops if `A` is `true` and returns `true`.\n",
    "\n",
    "Because `⊻` requires the left and right predicates to be different, its evaluation cannot be short-circuited.\n",
    "\n",
    "As a demonstration, consider the conditional below. `B` is not defined, but this won't error because the evaluation will short-circuit upon evaluating `A` in each case and thus `B` is never evaluated."
   ]
  },
  {
   "cell_type": "code",
   "execution_count": 8,
   "metadata": {},
   "outputs": [
    {
     "name": "stdout",
     "output_type": "stream",
     "text": [
      "&& short-circuited\n",
      "|| short-circuited\n"
     ]
    }
   ],
   "source": [
    "A = false\n",
    "if !(A && B)\n",
    "    println(\"&& short-circuited\")\n",
    "end\n",
    "\n",
    "A = true\n",
    "if A || B\n",
    "    println(\"|| short-circuited\")\n",
    "end"
   ]
  },
  {
   "cell_type": "markdown",
   "metadata": {},
   "source": [
    "## Exercises\n",
    "\n",
    "**Exercise 2.2.1:** Write a function `print_name(name::String)` which prints out the name `name` only if it's length is greater than 0. If the length is 0, it should print out `\"Name string is empty.\"`.\n",
    "\n",
    "_Hint:_ You can use `length(s)` to get the length of a string `s`.\n",
    "\n",
    "**Exercise 2.2.2:** Following each line below, write the value of `x`.\n",
    "\n",
    "```julia\n",
    "x = 1 < 2 ? 0 : 1          # x = ____\n",
    "x = x > -1 ? 2 : 0         # x = ____\n",
    "x = true && false ? 3 : 5  # x = ____\n",
    "x = x == 5 ? 2 : -1        # x = ____\n",
    "x = x < 0 ? -1 : 4         # x = ____\n",
    "```\n",
    "\n",
    "**Exercise 2.2.3:** For each line below, determine whether or not the line will error in evaluation. If a line errors, assume it is not executed. Assume that `A = true`, `B = false`, and `C = true` have already been set.\n",
    "\n",
    "```julia\n",
    "A && B                     # Error? ____\n",
    "A && D                     # Error? ____\n",
    "A || C                     # Error? ____\n",
    "B && E                     # Error? ____\n",
    "C || D                     # Error? ____\n",
    "C && (A || B)              # Error? ____\n",
    "B && (A || D)              # Error? ____\n",
    "A && (C && D)              # Error? ____\n",
    "B ⊻ D                      # Error? ____\n",
    "```"
   ]
  },
  {
   "cell_type": "markdown",
   "metadata": {},
   "source": [
    " "
   ]
  }
 ],
 "metadata": {
  "kernelspec": {
   "display_name": "Julia 1.1.0",
   "language": "julia",
   "name": "julia-1.1"
  },
  "language_info": {
   "file_extension": ".jl",
   "mimetype": "application/julia",
   "name": "julia",
   "version": "1.1.0"
  }
 },
 "nbformat": 4,
 "nbformat_minor": 2
}
