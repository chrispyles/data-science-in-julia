{
 "cells": [
  {
   "cell_type": "markdown",
   "metadata": {},
   "source": [
    "# Control Flow"
   ]
  },
  {
   "cell_type": "markdown",
   "metadata": {},
   "source": [
    "## While Loops\n",
    "\n",
    "Julia's `while` loop syntax is similar to that of many other languages:\n",
    "\n",
    "```julia\n",
    "while predictate\n",
    "    # do something\n",
    "end\n",
    "```\n",
    "\n",
    "As with all languages, it is important to make sure that the predicate has a teminating condition so that you don't end up in an infinite loop."
   ]
  },
  {
   "cell_type": "code",
   "execution_count": 2,
   "metadata": {},
   "outputs": [
    {
     "name": "stdout",
     "output_type": "stream",
     "text": [
      "1 2 4 8 "
     ]
    }
   ],
   "source": [
    "i = 1\n",
    "while i < 10\n",
    "    print(string(i) * \" \")\n",
    "    i *= 2\n",
    "end"
   ]
  },
  {
   "cell_type": "markdown",
   "metadata": {},
   "source": [
    "(Note the `*` above; in Julia, string concatenation is performed with this operator, as opposed to the more standard `+`.)"
   ]
  },
  {
   "cell_type": "markdown",
   "metadata": {},
   "source": [
    "### Break Statements\n",
    "\n",
    "Julia's `while` loops also support break statements, which stop and exit the loop when evaluated. To include a break, include the keyword `break`:\n",
    "\n",
    "```julia\n",
    "while predicate\n",
    "    # do something\n",
    "    if predicate\n",
    "        break\n",
    "    end\n",
    "end\n",
    "```\n",
    "\n",
    "An example of this is given below."
   ]
  },
  {
   "cell_type": "code",
   "execution_count": 15,
   "metadata": {},
   "outputs": [
    {
     "name": "stdout",
     "output_type": "stream",
     "text": [
      "Without break statement:\n",
      "3 6 9 12 15 18 21 24 \n",
      "With break statement:\n",
      "3 6 9 12 15 18 "
     ]
    }
   ],
   "source": [
    "println(\"Without break statement:\")\n",
    "i = 3\n",
    "while i < 25\n",
    "    print(string(i) * \" \")\n",
    "    i += 3\n",
    "end\n",
    "\n",
    "println(\"\\nWith break statement:\")\n",
    "i = 3\n",
    "while i < 25\n",
    "    print(string(i) * \" \")\n",
    "    if i % 18 == 0\n",
    "        break\n",
    "    end\n",
    "    i += 3\n",
    "end"
   ]
  },
  {
   "cell_type": "markdown",
   "metadata": {},
   "source": [
    "### Continue Statements\n",
    "\n",
    "Julia also supports continue statements, which skip the rest of the loop evaluation _in the current loop_ when evaluated. When using `continue` statements, it is **very important** that your increment is _before_ the `continue` predicate, or else you will end up in an infinite loop.\n",
    "\n",
    "```julia\n",
    "while predicate\n",
    "    # do something\n",
    "    increment\n",
    "    if predicate\n",
    "        continue\n",
    "    end\n",
    "    # do something\n",
    "end\n",
    "```\n",
    "\n",
    "Consider the example below, which only prints odd numbers."
   ]
  },
  {
   "cell_type": "code",
   "execution_count": 17,
   "metadata": {},
   "outputs": [
    {
     "name": "stdout",
     "output_type": "stream",
     "text": [
      "1 3 5 7 9 "
     ]
    }
   ],
   "source": [
    "i = 0\n",
    "while i < 10\n",
    "    i += 1\n",
    "    if i % 2 == 0\n",
    "        continue\n",
    "    end\n",
    "    print(string(i) * \" \")\n",
    "end"
   ]
  },
  {
   "cell_type": "markdown",
   "metadata": {},
   "source": [
    "## For Loops\n",
    "\n",
    "Julia's `for` loop syntax is similar to that of Python. It uses the `in` operator to iterate through the elements of an array or other iterable.\n",
    "\n",
    "```julia\n",
    "for element in array\n",
    "    # do something\n",
    "end\n",
    "```\n",
    "\n",
    "`for` loops support the use of `break` and `continue` statements as well. For ranges, it is simple to create an array of integers using `:` syntax, e.g. `1:10`. These ranges are inclusive at both ends and default to a step size of +1. It is also possible to specify a different step size using a second `:`:\n",
    "\n",
    "```julia\n",
    "low:step:high\n",
    "```\n",
    "\n",
    "For example, the range `10:-2:1` is $\\{10, 8, 6, 4, 2\\}$. An example for loop is given below."
   ]
  },
  {
   "cell_type": "code",
   "execution_count": 22,
   "metadata": {},
   "outputs": [
    {
     "name": "stdout",
     "output_type": "stream",
     "text": [
      "5 10 15 25 30 35 45 50 55 65 70 75 85 "
     ]
    }
   ],
   "source": [
    "for i in 5:5:100\n",
    "    if i % 20 == 0\n",
    "        continue\n",
    "    end\n",
    "    print(string(i) * \" \")\n",
    "    if i % 17 == 0\n",
    "        break\n",
    "    end\n",
    "end"
   ]
  },
  {
   "cell_type": "markdown",
   "metadata": {},
   "source": [
    "## Exercises\n",
    "\n",
    "**Exercise 2.3.1:** Create a while loop that prints all of the letters in the phrase \"data science is fun\" but which are not in the word \"string\".\n",
    "\n",
    "_Hint:_ Create an array of the letters and iterate through the index. You can check if a substring occurs in a larger string using `occursin(substring, big_string)`.\n",
    "\n",
    "**Exercise 2.3.2:** Write a for loop to print out all multiples of 3 from 0 to 100 that are not odd. The loop should stop when it hits upon a multiple of 31 **that is not 0**.\n",
    "\n",
    "**Exercise 2.3.3:** Write a function `cosines(start, stop)` that returns an array of the cosine of each number in the range `start:stop`. Use a for loop to add items to the array.\n",
    "\n",
    "**Exercise 2.3.4:** Rewrite your `cosines` implementation to allow for a different step size. In this implementation using dot syntax to broadcast the cosine function to each element of the range."
   ]
  },
  {
   "cell_type": "markdown",
   "metadata": {},
   "source": [
    " "
   ]
  }
 ],
 "metadata": {
  "kernelspec": {
   "display_name": "Julia 1.1.0",
   "language": "julia",
   "name": "julia-1.1"
  },
  "language_info": {
   "file_extension": ".jl",
   "mimetype": "application/julia",
   "name": "julia",
   "version": "1.1.0"
  }
 },
 "nbformat": 4,
 "nbformat_minor": 2
}
