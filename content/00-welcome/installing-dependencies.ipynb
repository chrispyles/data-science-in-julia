{
 "cells": [
  {
   "cell_type": "markdown",
   "metadata": {},
   "source": [
    "# Installing Dependencies\n",
    "\n",
    "As with Python and R, Julia has a robust community of packages that are necessary to be successful with the language. The Julia distribution includes _only_ the Base package (more on this later), so any packages that you need to use will need to be installed on your machine. This section covers the setup on how to install these packages."
   ]
  },
  {
   "cell_type": "markdown",
   "metadata": {},
   "source": [
    "## Packages You Will Need\n",
    "\n",
    "Below is an (incomplete) list of the packages you will need to have installed to following along with this book:\n",
    "\n",
    "DataFrames, CategoricalArrays, Missings, LinearAlgebra, Statistics, Pandas, ScikitLearn, PyPlot, Seaborn, ..."
   ]
  },
  {
   "cell_type": "markdown",
   "metadata": {},
   "source": [
    "## Installing Packages\n",
    "\n",
    "To install packages, you first need to import the `Pkg` package which is included in the Julia distribution. The syntax for installing a package is:\n",
    "\n",
    "```julia\n",
    "import Pkg; Pkg.add(\"PkgName\")\n",
    "```\n",
    "\n",
    "The purpose of the semicolon is to allow this to be executed on a single line and to suppress output from the import statement. If you need to install more than one package at once, you can also pass a vector of strings to `Pkg.add` and it will install each package listed:\n",
    "\n",
    "```julia\n",
    "import Pkg; Pkg.add([\"Pkg1\", \"Pkg2\", \"Pkg3\", ...])\n",
    "```"
   ]
  },
  {
   "cell_type": "markdown",
   "metadata": {},
   "source": [
    "## Importing Packages\n",
    "\n",
    "When you need to use a package, you need to import it; that is, you need to add each object defined in the package to your environment. In Julia, there are two ways to import packages, one which requires appending the package name before each object and one which does not.\n",
    "\n",
    "If you are unconcerned about object name overlaps, you can import packages with the `using` command. This brings all objects in a package to your environment."
   ]
  },
  {
   "cell_type": "code",
   "execution_count": 10,
   "metadata": {},
   "outputs": [],
   "source": [
    "using Statistics"
   ]
  },
  {
   "cell_type": "markdown",
   "metadata": {},
   "source": [
    "Now, I can use functions from Statistics.jl to perform operations in my environment."
   ]
  },
  {
   "cell_type": "code",
   "execution_count": 11,
   "metadata": {},
   "outputs": [
    {
     "data": {
      "text/plain": [
       "2.0"
      ]
     },
     "execution_count": 11,
     "metadata": {},
     "output_type": "execute_result"
    }
   ],
   "source": [
    "mean([1, 2, 3])"
   ]
  },
  {
   "cell_type": "markdown",
   "metadata": {},
   "source": [
    "If you want to make sure that there is no overlap between your own functions (or the Base package) and the package you are importing, you can import using an `import` statement:"
   ]
  },
  {
   "cell_type": "code",
   "execution_count": 9,
   "metadata": {},
   "outputs": [
    {
     "name": "stderr",
     "output_type": "stream",
     "text": [
      "┌ Info: Recompiling stale cache file /Users/chrispyles/.julia/compiled/v1.1/Pandas/bc5zI.ji for Pandas [eadc2687-ae89-51f9-a5d9-86b5a6373a9c]\n",
      "└ @ Base loading.jl:1184\n"
     ]
    }
   ],
   "source": [
    "import Pandas"
   ]
  },
  {
   "cell_type": "markdown",
   "metadata": {},
   "source": [
    "If you do this, you will need to call functions by appending the package name to the beginning and accessing with dot syntax, e.g. `Pandas.read_csv`.\n",
    "\n",
    "### Aliasing Imports\n",
    "\n",
    "In many cases, you want to avoid overlaps but don't want to have to type out the package name each time you want to use a function. In a language like Python, this is when you would use\n",
    "\n",
    "```python\n",
    "import package as pkg\n",
    "```\n",
    "\n",
    "Unfortunately, Julia does not currently provide a syntactic structure for aliasing imports. However, you can get around this using the `import` statement and then assignment a variable that references the package you've imported:"
   ]
  },
  {
   "cell_type": "code",
   "execution_count": 12,
   "metadata": {},
   "outputs": [
    {
     "name": "stderr",
     "output_type": "stream",
     "text": [
      "┌ Info: Recompiling stale cache file /Users/chrispyles/.julia/compiled/v1.1/PyPlot/oatAj.ji for PyPlot [d330b81b-6aea-500a-939a-2ce795aea3ee]\n",
      "└ @ Base loading.jl:1184\n"
     ]
    },
    {
     "data": {
      "text/plain": [
       "PyPlot"
      ]
     },
     "execution_count": 12,
     "metadata": {},
     "output_type": "execute_result"
    }
   ],
   "source": [
    "import PyPlot\n",
    "plt = PyPlot"
   ]
  },
  {
   "cell_type": "markdown",
   "metadata": {},
   "source": [
    "Now, I can use `plt` to reference functions from PyPlot.jl:"
   ]
  },
  {
   "cell_type": "code",
   "execution_count": 14,
   "metadata": {},
   "outputs": [
    {
     "data": {
      "image/png": "[encoded data removed]",
      "text/plain": [
       "PyPlot.Figure(PyObject <Figure size 640x480 with 1 Axes>)"
      ]
     },
     "metadata": {},
     "output_type": "display_data"
    }
   ],
   "source": [
    "x = randn(100)\n",
    "y = randn(100)\n",
    "plt.scatter(x, y);"
   ]
  },
  {
   "cell_type": "markdown",
   "metadata": {},
   "source": [
    "If you have trouble installing packages, see the [Julia documentation for packages](https://docs.julialang.org/en/v0.6.3/manual/packages/)."
   ]
  }
 ],
 "metadata": {
  "kernelspec": {
   "display_name": "Julia 1.1.0",
   "language": "julia",
   "name": "julia-1.1"
  },
  "language_info": {
   "file_extension": ".jl",
   "mimetype": "application/julia",
   "name": "julia",
   "version": "1.1.0"
  }
 },
 "nbformat": 4,
 "nbformat_minor": 2
}
