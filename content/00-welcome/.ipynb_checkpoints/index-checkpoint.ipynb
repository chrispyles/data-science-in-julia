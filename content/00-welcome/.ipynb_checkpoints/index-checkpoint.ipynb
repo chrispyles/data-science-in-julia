{
 "cells": [
  {
   "cell_type": "markdown",
   "metadata": {},
   "source": [
    "# Data Science in Julia\n",
    "\n",
    "_by Christopher Pyles_\n",
    "\n",
    "Welcome! This online book is intended to give you an introduction to the forms and packages in the open source language [Julia](https://julialang.org) that are useful in data science. This is not intended to give you an thorough introduction to the Julia language, but is intended to build on top of a good understanding of its basic structures and syntax. To learn the language, the Julia website has some [great resources](https://julialang.org/learning/) to help you get started.\n",
    "\n",
    "## Why Julia?\n",
    "\n",
    "This book focuses on Julia because it integrates many of the great packages of Python with a model that allows for efficient computing and memory use. It borrows some syntax from the proprietary language MATLAB and incorporates that with more streamlined code and the advantageous package community of Python.\n",
    "\n",
    "## Scope\n",
    "\n",
    "This course covers a range of topics related to the practice of data science in Julia. While it will cover the _implementation_ of many statistical models and other complex algorithms, proving and providing the theory behind these models is beyond the scope of this book. This book is mainly intended as a way for individuals already experienced in the field to learn Julia. This book will cover implementation of topics including but not limited to:\n",
    "\n",
    "* Julia's Package `DataFrames`\n",
    "* `Pandas` in Julia\n",
    "* Plotting in `PyPlot` and `Seaborn`\n",
    "<!-- * Symbolic Algebra in `SymPy` -->\n",
    "* Linear Algebra\n",
    "* Implementing Models\n",
    "* (Basic) Machine Learning with `ScikitLearn`"
   ]
  }
 ],
 "metadata": {
  "kernelspec": {
   "display_name": "Julia 1.1.0",
   "language": "julia",
   "name": "julia-1.1"
  },
  "language_info": {
   "file_extension": ".jl",
   "mimetype": "application/julia",
   "name": "julia",
   "version": "1.1.0"
  }
 },
 "nbformat": 4,
 "nbformat_minor": 2
}
