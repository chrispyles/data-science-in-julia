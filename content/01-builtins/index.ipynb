{
 "cells": [
  {
   "cell_type": "markdown",
   "metadata": {},
   "source": [
    "# DataFrames in Julia\n",
    "\n",
    "This chapter focuses on representations of rectangular data and other data abstractions that are unique to Julia. While Julia is known for its implementation of Python packages, this chapter will focus on utilizing the types and packages that Julia makes itself in order to load, view, manipulate, and export data sets. The purpose of this chapter is to develop an understanding of Julia's own data-specific functionality so that we can understand the tools that underly the packages we will be calling on later. \n",
    "\n",
    "This chapter covers the following packages:\n",
    "\n",
    "* DataFrames.jl\n",
    "* CategoricalArrays.jl\n",
    "* CSV.jl\n",
    "* JSON.jl"
   ]
  }
 ],
 "metadata": {
  "kernelspec": {
   "display_name": "Julia 1.1.0",
   "language": "julia",
   "name": "julia-1.1"
  },
  "language_info": {
   "file_extension": ".jl",
   "mimetype": "application/julia",
   "name": "julia",
   "version": "1.1.0"
  }
 },
 "nbformat": 4,
 "nbformat_minor": 2
}
