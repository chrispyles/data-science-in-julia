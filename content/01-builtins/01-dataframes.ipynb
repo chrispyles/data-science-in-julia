{
 "cells": [
  {
   "cell_type": "markdown",
   "metadata": {},
   "source": [
    "# The `DataFrames` Package\n",
    "\n",
    "The most rudimentary implementation of labeled rectangular data in Julia comes from Julia's `DataFrames` package. To begin using the package, we import it with the `using` command."
   ]
  },
  {
   "cell_type": "code",
   "execution_count": 1,
   "metadata": {},
   "outputs": [],
   "source": [
    "using DataFrames"
   ]
  },
  {
   "cell_type": "markdown",
   "metadata": {},
   "source": [
    "To construct a DataFrame, the simplest method is to use the class constructor, `DataFrame`. A DataFrame represents column labels as symbols internally, so when we declare a DataFrame, we input the columns as keyword arguments and pass to these arrays of values, all of the same type. Let's say that we wanted to construct the following data set in Julia:\n",
    "\n",
    "| Sex | Age |\n",
    "|-----|-----|\n",
    "| F | 19 |\n",
    "| M | 18 |\n",
    "| M | 20 |\n",
    "| F | 22 |\n",
    "| M | 25 |\n",
    "| F | 23 |\n",
    "\n",
    "We could apply the class constructor as follows:"
   ]
  },
  {
   "cell_type": "code",
   "execution_count": 2,
   "metadata": {},
   "outputs": [
    {
     "data": {
      "text/html": [
       "<table class=\"data-frame\"><thead><tr><th></th><th>Sex</th><th>Age</th></tr><tr><th></th><th>String</th><th>Int64</th></tr></thead><tbody><p>6 rows × 2 columns</p><tr><th>1</th><td>F</td><td>19</td></tr><tr><th>2</th><td>M</td><td>18</td></tr><tr><th>3</th><td>M</td><td>20</td></tr><tr><th>4</th><td>F</td><td>22</td></tr><tr><th>5</th><td>M</td><td>25</td></tr><tr><th>6</th><td>F</td><td>23</td></tr></tbody></table>"
      ],
      "text/latex": [
       "\\begin{tabular}{r|cc}\n",
       "\t& Sex & Age\\\\\n",
       "\t\\hline\n",
       "\t& String & Int64\\\\\n",
       "\t\\hline\n",
       "\t1 & F & 19 \\\\\n",
       "\t2 & M & 18 \\\\\n",
       "\t3 & M & 20 \\\\\n",
       "\t4 & F & 22 \\\\\n",
       "\t5 & M & 25 \\\\\n",
       "\t6 & F & 23 \\\\\n",
       "\\end{tabular}\n"
      ],
      "text/plain": [
       "6×2 DataFrame\n",
       "│ Row │ Sex    │ Age   │\n",
       "│     │ \u001b[90mString\u001b[39m │ \u001b[90mInt64\u001b[39m │\n",
       "├─────┼────────┼───────┤\n",
       "│ 1   │ F      │ 19    │\n",
       "│ 2   │ M      │ 18    │\n",
       "│ 3   │ M      │ 20    │\n",
       "│ 4   │ F      │ 22    │\n",
       "│ 5   │ M      │ 25    │\n",
       "│ 6   │ F      │ 23    │"
      ]
     },
     "execution_count": 2,
     "metadata": {},
     "output_type": "execute_result"
    }
   ],
   "source": [
    "DataFrame(\n",
    "    Sex = [\"F\", \"M\", \"M\", \"F\", \"M\", \"F\"],\n",
    "    Age = [19, 18, 20, 22, 25, 23]\n",
    ")"
   ]
  },
  {
   "cell_type": "markdown",
   "metadata": {},
   "source": [
    "As you can see, the data are constructed using the keyword arguments that we passed as labels. One interesting thing is that the rows are indexed, just as they are in, for example, `pandas` in Python. Also, note that the DataFrame shows us the type of each element in the column. For example, if we were isntead to declare the `Age` variable as `Int32`s, it would show show in the column header:"
   ]
  },
  {
   "cell_type": "code",
   "execution_count": 4,
   "metadata": {},
   "outputs": [
    {
     "data": {
      "text/html": [
       "<table class=\"data-frame\"><thead><tr><th></th><th>Sex</th><th>Age</th></tr><tr><th></th><th>String</th><th>Int32</th></tr></thead><tbody><p>6 rows × 2 columns</p><tr><th>1</th><td>F</td><td>19</td></tr><tr><th>2</th><td>M</td><td>18</td></tr><tr><th>3</th><td>M</td><td>20</td></tr><tr><th>4</th><td>F</td><td>22</td></tr><tr><th>5</th><td>M</td><td>25</td></tr><tr><th>6</th><td>F</td><td>23</td></tr></tbody></table>"
      ],
      "text/latex": [
       "\\begin{tabular}{r|cc}\n",
       "\t& Sex & Age\\\\\n",
       "\t\\hline\n",
       "\t& String & Int32\\\\\n",
       "\t\\hline\n",
       "\t1 & F & 19 \\\\\n",
       "\t2 & M & 18 \\\\\n",
       "\t3 & M & 20 \\\\\n",
       "\t4 & F & 22 \\\\\n",
       "\t5 & M & 25 \\\\\n",
       "\t6 & F & 23 \\\\\n",
       "\\end{tabular}\n"
      ],
      "text/plain": [
       "6×2 DataFrame\n",
       "│ Row │ Sex    │ Age   │\n",
       "│     │ \u001b[90mString\u001b[39m │ \u001b[90mInt32\u001b[39m │\n",
       "├─────┼────────┼───────┤\n",
       "│ 1   │ F      │ 19    │\n",
       "│ 2   │ M      │ 18    │\n",
       "│ 3   │ M      │ 20    │\n",
       "│ 4   │ F      │ 22    │\n",
       "│ 5   │ M      │ 25    │\n",
       "│ 6   │ F      │ 23    │"
      ]
     },
     "execution_count": 4,
     "metadata": {},
     "output_type": "execute_result"
    }
   ],
   "source": [
    "df = DataFrame(\n",
    "    Sex = [\"F\", \"M\", \"M\", \"F\", \"M\", \"F\"],\n",
    "    Age = Int32[19, 18, 20, 22, 25, 23]\n",
    ")"
   ]
  },
  {
   "cell_type": "markdown",
   "metadata": {},
   "source": [
    "## Slicing DataFrames\n",
    "\n",
    "The ability to extract data from columns and rows is very important, and `DataFrames` includes some nice syntax for slicing a DataFrame.\n",
    "\n",
    "### By Column\n",
    "\n",
    "In a DataFrame, the column labels are not represented as strings, as in so many other languages, but as symbols. This means that in order to extract "
   ]
  },
  {
   "cell_type": "code",
   "execution_count": null,
   "metadata": {},
   "outputs": [],
   "source": []
  },
  {
   "cell_type": "code",
   "execution_count": null,
   "metadata": {},
   "outputs": [],
   "source": []
  },
  {
   "cell_type": "code",
   "execution_count": null,
   "metadata": {},
   "outputs": [],
   "source": []
  },
  {
   "cell_type": "code",
   "execution_count": null,
   "metadata": {},
   "outputs": [],
   "source": []
  },
  {
   "cell_type": "code",
   "execution_count": null,
   "metadata": {},
   "outputs": [],
   "source": []
  },
  {
   "cell_type": "code",
   "execution_count": null,
   "metadata": {},
   "outputs": [],
   "source": []
  }
 ],
 "metadata": {
  "kernelspec": {
   "display_name": "Julia 1.1.0",
   "language": "julia",
   "name": "julia-1.1"
  },
  "language_info": {
   "file_extension": ".jl",
   "mimetype": "application/julia",
   "name": "julia",
   "version": "1.1.0"
  }
 },
 "nbformat": 4,
 "nbformat_minor": 2
}
