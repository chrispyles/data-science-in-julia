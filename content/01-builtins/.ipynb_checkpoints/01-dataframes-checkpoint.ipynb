{
 "cells": [
  {
   "cell_type": "markdown",
   "metadata": {},
   "source": [
    "# DataFrames.jl\n",
    "\n",
    "The most rudimentary implementation of labeled rectangular data in Julia comes from Julia's DataFrames.jl package. Similar to the relationship of the `data.frame` class to R, the DataFrames.jl package contains the default representation of labeled rectangular data in Julia, the DataFrame. DataFrames in Julia are very similar to R's `data.frame` in that the rows are indexed and the column labels are represented by symbols rather than strings, as in Python.\n",
    "\n",
    "Unlike R, however, DataFrames.jl is not automatically included in the Julia distribution. It must be installed locally (see [Installing Dependencies]()) and then loaded in each notebook with the `using` command:"
   ]
  },
  {
   "cell_type": "code",
   "execution_count": 1,
   "metadata": {},
   "outputs": [],
   "source": [
    "using DataFrames"
   ]
  },
  {
   "cell_type": "markdown",
   "metadata": {},
   "source": [
    "## Constructing a `DataFrame`\n",
    "\n",
    "To construct a DataFrame, the simplest method is to use the class constructor, `DataFrame`. A DataFrame represents column labels as symbols internally, so when we declare a DataFrame, we input the columns as keyword arguments and pass to these arrays of values, all of the same type. Let's say that we wanted to construct the following data set in Julia:\n",
    "\n",
    "| Sex | Age |\n",
    "|-----|-----|\n",
    "| F | 19 |\n",
    "| M | 18 |\n",
    "| M | 20 |\n",
    "| F | 22 |\n",
    "| M | 25 |\n",
    "| F | 23 |\n",
    "\n",
    "We could apply the class constructor as follows:"
   ]
  },
  {
   "cell_type": "code",
   "execution_count": 2,
   "metadata": {},
   "outputs": [
    {
     "data": {
      "text/html": [
       "<table class=\"data-frame\"><thead><tr><th></th><th>Sex</th><th>Age</th></tr><tr><th></th><th>String</th><th>Int64</th></tr></thead><tbody><p>6 rows × 2 columns</p><tr><th>1</th><td>F</td><td>19</td></tr><tr><th>2</th><td>M</td><td>18</td></tr><tr><th>3</th><td>M</td><td>20</td></tr><tr><th>4</th><td>F</td><td>22</td></tr><tr><th>5</th><td>M</td><td>25</td></tr><tr><th>6</th><td>F</td><td>23</td></tr></tbody></table>"
      ],
      "text/latex": [
       "\\begin{tabular}{r|cc}\n",
       "\t& Sex & Age\\\\\n",
       "\t\\hline\n",
       "\t& String & Int64\\\\\n",
       "\t\\hline\n",
       "\t1 & F & 19 \\\\\n",
       "\t2 & M & 18 \\\\\n",
       "\t3 & M & 20 \\\\\n",
       "\t4 & F & 22 \\\\\n",
       "\t5 & M & 25 \\\\\n",
       "\t6 & F & 23 \\\\\n",
       "\\end{tabular}\n"
      ],
      "text/plain": [
       "6×2 DataFrame\n",
       "│ Row │ Sex    │ Age   │\n",
       "│     │ \u001b[90mString\u001b[39m │ \u001b[90mInt64\u001b[39m │\n",
       "├─────┼────────┼───────┤\n",
       "│ 1   │ F      │ 19    │\n",
       "│ 2   │ M      │ 18    │\n",
       "│ 3   │ M      │ 20    │\n",
       "│ 4   │ F      │ 22    │\n",
       "│ 5   │ M      │ 25    │\n",
       "│ 6   │ F      │ 23    │"
      ]
     },
     "execution_count": 2,
     "metadata": {},
     "output_type": "execute_result"
    }
   ],
   "source": [
    "DataFrame(\n",
    "    Sex = [\"F\", \"M\", \"M\", \"F\", \"M\", \"F\"],\n",
    "    Age = [19, 18, 20, 22, 25, 23]\n",
    ")"
   ]
  },
  {
   "cell_type": "markdown",
   "metadata": {},
   "source": [
    "As you can see, the data are constructed using the keyword arguments that we passed as labels. One interesting thing is that the rows are indexed, just as they are in, for example, `pandas` in Python. Also, note that the DataFrame shows us the type of each element in the column. For example, if we were isntead to declare the `Age` variable as `Int32`s, it would show show in the column header:"
   ]
  },
  {
   "cell_type": "code",
   "execution_count": 4,
   "metadata": {},
   "outputs": [
    {
     "data": {
      "text/html": [
       "<table class=\"data-frame\"><thead><tr><th></th><th>Sex</th><th>Age</th></tr><tr><th></th><th>String</th><th>Int32</th></tr></thead><tbody><p>6 rows × 2 columns</p><tr><th>1</th><td>F</td><td>19</td></tr><tr><th>2</th><td>M</td><td>18</td></tr><tr><th>3</th><td>M</td><td>20</td></tr><tr><th>4</th><td>F</td><td>22</td></tr><tr><th>5</th><td>M</td><td>25</td></tr><tr><th>6</th><td>F</td><td>23</td></tr></tbody></table>"
      ],
      "text/latex": [
       "\\begin{tabular}{r|cc}\n",
       "\t& Sex & Age\\\\\n",
       "\t\\hline\n",
       "\t& String & Int32\\\\\n",
       "\t\\hline\n",
       "\t1 & F & 19 \\\\\n",
       "\t2 & M & 18 \\\\\n",
       "\t3 & M & 20 \\\\\n",
       "\t4 & F & 22 \\\\\n",
       "\t5 & M & 25 \\\\\n",
       "\t6 & F & 23 \\\\\n",
       "\\end{tabular}\n"
      ],
      "text/plain": [
       "6×2 DataFrame\n",
       "│ Row │ Sex    │ Age   │\n",
       "│     │ \u001b[90mString\u001b[39m │ \u001b[90mInt32\u001b[39m │\n",
       "├─────┼────────┼───────┤\n",
       "│ 1   │ F      │ 19    │\n",
       "│ 2   │ M      │ 18    │\n",
       "│ 3   │ M      │ 20    │\n",
       "│ 4   │ F      │ 22    │\n",
       "│ 5   │ M      │ 25    │\n",
       "│ 6   │ F      │ 23    │"
      ]
     },
     "execution_count": 4,
     "metadata": {},
     "output_type": "execute_result"
    }
   ],
   "source": [
    "df = DataFrame(\n",
    "    Sex = [\"F\", \"M\", \"M\", \"F\", \"M\", \"F\"],\n",
    "    Age = Int32[19, 18, 20, 22, 25, 23]\n",
    ")"
   ]
  },
  {
   "cell_type": "markdown",
   "metadata": {},
   "source": [
    "## Slicing DataFrames\n",
    "\n",
    "The ability to extract data from columns and rows is very important, and DataFrames.jl includes some nice syntax for slicing a DataFrame. We can slice DataFrames as we do any other 2-dimensional representation in Julia (i.e. matrices), the same way as in R. DataFrames allow subsetting using bracket `[]` notation, and the basic subsetting of a DataFrame is accomplished using row and column indices:"
   ]
  },
  {
   "cell_type": "code",
   "execution_count": 19,
   "metadata": {},
   "outputs": [
    {
     "data": {
      "text/html": [
       "<table class=\"data-frame\"><thead><tr><th></th><th>Age</th><th>Sex</th></tr><tr><th></th><th>Int32</th><th>String</th></tr></thead><tbody><p>2 rows × 2 columns</p><tr><th>1</th><td>22</td><td>F</td></tr><tr><th>2</th><td>20</td><td>M</td></tr></tbody></table>"
      ],
      "text/latex": [
       "\\begin{tabular}{r|cc}\n",
       "\t& Age & Sex\\\\\n",
       "\t\\hline\n",
       "\t& Int32 & String\\\\\n",
       "\t\\hline\n",
       "\t1 & 22 & F \\\\\n",
       "\t2 & 20 & M \\\\\n",
       "\\end{tabular}\n"
      ],
      "text/plain": [
       "2×2 DataFrame\n",
       "│ Row │ Age   │ Sex    │\n",
       "│     │ \u001b[90mInt32\u001b[39m │ \u001b[90mString\u001b[39m │\n",
       "├─────┼───────┼────────┤\n",
       "│ 1   │ 22    │ F      │\n",
       "│ 2   │ 20    │ M      │"
      ]
     },
     "execution_count": 19,
     "metadata": {},
     "output_type": "execute_result"
    }
   ],
   "source": [
    "# multiple rows and columns\n",
    "df[4:-1:3, 2:-1:1]"
   ]
  },
  {
   "cell_type": "code",
   "execution_count": 15,
   "metadata": {},
   "outputs": [
    {
     "data": {
      "text/plain": [
       "2-element Array{String,1}:\n",
       " \"F\"\n",
       " \"M\""
      ]
     },
     "execution_count": 15,
     "metadata": {},
     "output_type": "execute_result"
    }
   ],
   "source": [
    "# single column, multiple rows\n",
    "df[1:2, 1]"
   ]
  },
  {
   "cell_type": "markdown",
   "metadata": {},
   "source": [
    "As you can see, selecting multiple rows and columns in the slice returns a new DataFrame with the indices reset and selecting a single column returns an array of the values for that column in the selected rows. If you do not pass a tuple to the bracket (e.g. `df[2]`), it returns the column at that index. Finally, subsetting a DataFrame to select a single row returns a `DataFrameRow` object, which is acts similar to a 1-row DataFrame. The details of this type can be find by calling `?DataFrameRow` in Jupyter:"
   ]
  },
  {
   "cell_type": "code",
   "execution_count": 10,
   "metadata": {},
   "outputs": [
    {
     "data": {
      "text/html": [
       "<p>DataFrameRow</p><table class=\"data-frame\"><thead><tr><th></th><th>Sex</th><th>Age</th></tr><tr><th></th><th>String</th><th>Int32</th></tr></thead><tbody><p>1 rows × 2 columns</p><tr><th>3</th><td>M</td><td>20</td></tr></tbody></table>"
      ],
      "text/latex": [
       "\\begin{tabular}{r|cc}\n",
       "\t& Sex & Age\\\\\n",
       "\t\\hline\n",
       "\t& String & Int32\\\\\n",
       "\t\\hline\n",
       "\t3 & M & 20 \\\\\n",
       "\\end{tabular}\n"
      ],
      "text/plain": [
       "DataFrameRow\n",
       "│ Row │ Sex    │ Age   │\n",
       "│     │ \u001b[90mString\u001b[39m │ \u001b[90mInt32\u001b[39m │\n",
       "├─────┼────────┼───────┤\n",
       "│ 3   │ M      │ 20    │"
      ]
     },
     "execution_count": 10,
     "metadata": {},
     "output_type": "execute_result"
    }
   ],
   "source": [
    "# single row, multiple columns\n",
    "df[3,1:2]"
   ]
  },
  {
   "cell_type": "code",
   "execution_count": 9,
   "metadata": {},
   "outputs": [
    {
     "name": "stdout",
     "output_type": "stream",
     "text": [
      "search: \u001b[0m\u001b[1mD\u001b[22m\u001b[0m\u001b[1ma\u001b[22m\u001b[0m\u001b[1mt\u001b[22m\u001b[0m\u001b[1ma\u001b[22m\u001b[0m\u001b[1mF\u001b[22m\u001b[0m\u001b[1mr\u001b[22m\u001b[0m\u001b[1ma\u001b[22m\u001b[0m\u001b[1mm\u001b[22m\u001b[0m\u001b[1me\u001b[22m\u001b[0m\u001b[1mR\u001b[22m\u001b[0m\u001b[1mo\u001b[22m\u001b[0m\u001b[1mw\u001b[22m \u001b[0m\u001b[1mD\u001b[22m\u001b[0m\u001b[1ma\u001b[22m\u001b[0m\u001b[1mt\u001b[22m\u001b[0m\u001b[1ma\u001b[22m\u001b[0m\u001b[1mF\u001b[22m\u001b[0m\u001b[1mr\u001b[22m\u001b[0m\u001b[1ma\u001b[22m\u001b[0m\u001b[1mm\u001b[22m\u001b[0m\u001b[1me\u001b[22m \u001b[0m\u001b[1mD\u001b[22m\u001b[0m\u001b[1ma\u001b[22m\u001b[0m\u001b[1mt\u001b[22m\u001b[0m\u001b[1ma\u001b[22m\u001b[0m\u001b[1mF\u001b[22m\u001b[0m\u001b[1mr\u001b[22m\u001b[0m\u001b[1ma\u001b[22m\u001b[0m\u001b[1mm\u001b[22m\u001b[0m\u001b[1me\u001b[22ms Sub\u001b[0m\u001b[1mD\u001b[22m\u001b[0m\u001b[1ma\u001b[22m\u001b[0m\u001b[1mt\u001b[22m\u001b[0m\u001b[1ma\u001b[22m\u001b[0m\u001b[1mF\u001b[22m\u001b[0m\u001b[1mr\u001b[22m\u001b[0m\u001b[1ma\u001b[22m\u001b[0m\u001b[1mm\u001b[22m\u001b[0m\u001b[1me\u001b[22m Groupe\u001b[0m\u001b[1md\u001b[22mD\u001b[0m\u001b[1ma\u001b[22m\u001b[0m\u001b[1mt\u001b[22m\u001b[0m\u001b[1ma\u001b[22m\u001b[0m\u001b[1mF\u001b[22m\u001b[0m\u001b[1mr\u001b[22m\u001b[0m\u001b[1ma\u001b[22m\u001b[0m\u001b[1mm\u001b[22m\u001b[0m\u001b[1me\u001b[22m\n",
      "\n"
     ]
    },
    {
     "data": {
      "text/latex": [
       "\\begin{verbatim}\n",
       "DataFrameRow{<:AbstractDataFrame,<:AbstractIndex}\n",
       "\\end{verbatim}\n",
       "A view of one row of an \\texttt{AbstractDataFrame}.\n",
       "\n",
       "A \\texttt{DataFrameRow} is returned by \\texttt{getindex} or \\texttt{view} functions when one row and a selection of columns are requested, or when iterating the result of the call to the \\href{@ref}{\\texttt{eachrow}} function.\n",
       "\n",
       "The \\texttt{DataFrameRow} constructor can also be called directly:\n",
       "\n",
       "\\begin{verbatim}\n",
       "DataFrameRow(parent::AbstractDataFrame, row::Integer, cols=:)\n",
       "\\end{verbatim}\n",
       "A \\texttt{DataFrameRow} supports the iteration interface and can therefore be passed to functions that expect a collection as an argument.\n",
       "\n",
       "Indexing is one-dimensional like specifying a column of a \\texttt{DataFrame}. You can also access the data in a \\texttt{DataFrameRow} using the \\texttt{getproperty} and \\texttt{setproperty!} functions and convert it to a \\texttt{NamedTuple} using the \\texttt{copy} function.\n",
       "\n",
       "It is possible to create a \\texttt{DataFrameRow} with duplicate columns. All such columns will have a reference to the same entry in the parent \\texttt{DataFrame}.\n",
       "\n",
       "If the selection of columns in a parent data frame is passed as \\texttt{:} (a colon) then \\texttt{DataFrameRow} will always have all columns from the parent, even if they are added or removed after its creation.\n",
       "\n",
       "\\subsubsection{Examples}\n",
       "\\begin{verbatim}\n",
       "df = DataFrame(a = repeat([1, 2, 3, 4], outer=[2]),\n",
       "               b = repeat([2, 1], outer=[4]),\n",
       "               c = randn(8))\n",
       "sdf1 = view(df, 2, :)\n",
       "sdf2 = @view df[end, [:a]]\n",
       "sdf3 = eachrow(df)[1]\n",
       "sdf4 = DataFrameRow(df, 2, 1:2)\n",
       "sdf5 = DataFrameRow(df, 1)\n",
       "\\end{verbatim}\n"
      ],
      "text/markdown": [
       "```\n",
       "DataFrameRow{<:AbstractDataFrame,<:AbstractIndex}\n",
       "```\n",
       "\n",
       "A view of one row of an `AbstractDataFrame`.\n",
       "\n",
       "A `DataFrameRow` is returned by `getindex` or `view` functions when one row and a selection of columns are requested, or when iterating the result of the call to the [`eachrow`](@ref) function.\n",
       "\n",
       "The `DataFrameRow` constructor can also be called directly:\n",
       "\n",
       "```\n",
       "DataFrameRow(parent::AbstractDataFrame, row::Integer, cols=:)\n",
       "```\n",
       "\n",
       "A `DataFrameRow` supports the iteration interface and can therefore be passed to functions that expect a collection as an argument.\n",
       "\n",
       "Indexing is one-dimensional like specifying a column of a `DataFrame`. You can also access the data in a `DataFrameRow` using the `getproperty` and `setproperty!` functions and convert it to a `NamedTuple` using the `copy` function.\n",
       "\n",
       "It is possible to create a `DataFrameRow` with duplicate columns. All such columns will have a reference to the same entry in the parent `DataFrame`.\n",
       "\n",
       "If the selection of columns in a parent data frame is passed as `:` (a colon) then `DataFrameRow` will always have all columns from the parent, even if they are added or removed after its creation.\n",
       "\n",
       "### Examples\n",
       "\n",
       "```julia\n",
       "df = DataFrame(a = repeat([1, 2, 3, 4], outer=[2]),\n",
       "               b = repeat([2, 1], outer=[4]),\n",
       "               c = randn(8))\n",
       "sdf1 = view(df, 2, :)\n",
       "sdf2 = @view df[end, [:a]]\n",
       "sdf3 = eachrow(df)[1]\n",
       "sdf4 = DataFrameRow(df, 2, 1:2)\n",
       "sdf5 = DataFrameRow(df, 1)\n",
       "```\n"
      ],
      "text/plain": [
       "\u001b[36m  DataFrameRow{<:AbstractDataFrame,<:AbstractIndex}\u001b[39m\n",
       "\n",
       "  A view of one row of an \u001b[36mAbstractDataFrame\u001b[39m.\n",
       "\n",
       "  A \u001b[36mDataFrameRow\u001b[39m is returned by \u001b[36mgetindex\u001b[39m or \u001b[36mview\u001b[39m functions when one row and a\n",
       "  selection of columns are requested, or when iterating the result of the call\n",
       "  to the \u001b[36meachrow\u001b[39m function.\n",
       "\n",
       "  The \u001b[36mDataFrameRow\u001b[39m constructor can also be called directly:\n",
       "\n",
       "\u001b[36m  DataFrameRow(parent::AbstractDataFrame, row::Integer, cols=:)\u001b[39m\n",
       "\n",
       "  A \u001b[36mDataFrameRow\u001b[39m supports the iteration interface and can therefore be passed\n",
       "  to functions that expect a collection as an argument.\n",
       "\n",
       "  Indexing is one-dimensional like specifying a column of a \u001b[36mDataFrame\u001b[39m. You can\n",
       "  also access the data in a \u001b[36mDataFrameRow\u001b[39m using the \u001b[36mgetproperty\u001b[39m and\n",
       "  \u001b[36msetproperty!\u001b[39m functions and convert it to a \u001b[36mNamedTuple\u001b[39m using the \u001b[36mcopy\u001b[39m\n",
       "  function.\n",
       "\n",
       "  It is possible to create a \u001b[36mDataFrameRow\u001b[39m with duplicate columns. All such\n",
       "  columns will have a reference to the same entry in the parent \u001b[36mDataFrame\u001b[39m.\n",
       "\n",
       "  If the selection of columns in a parent data frame is passed as \u001b[36m:\u001b[39m (a colon)\n",
       "  then \u001b[36mDataFrameRow\u001b[39m will always have all columns from the parent, even if they\n",
       "  are added or removed after its creation.\n",
       "\n",
       "\u001b[1m  Examples\u001b[22m\n",
       "\u001b[1m  ––––––––––\u001b[22m\n",
       "\n",
       "\u001b[36m  df = DataFrame(a = repeat([1, 2, 3, 4], outer=[2]),\u001b[39m\n",
       "\u001b[36m                 b = repeat([2, 1], outer=[4]),\u001b[39m\n",
       "\u001b[36m                 c = randn(8))\u001b[39m\n",
       "\u001b[36m  sdf1 = view(df, 2, :)\u001b[39m\n",
       "\u001b[36m  sdf2 = @view df[end, [:a]]\u001b[39m\n",
       "\u001b[36m  sdf3 = eachrow(df)[1]\u001b[39m\n",
       "\u001b[36m  sdf4 = DataFrameRow(df, 2, 1:2)\u001b[39m\n",
       "\u001b[36m  sdf5 = DataFrameRow(df, 1)\u001b[39m"
      ]
     },
     "execution_count": 9,
     "metadata": {},
     "output_type": "execute_result"
    }
   ],
   "source": [
    "?DataFrameRow"
   ]
  },
  {
   "cell_type": "markdown",
   "metadata": {},
   "source": [
    "### Column Labels\n",
    "\n",
    "In a DataFrame, the column labels are not represented as strings, as in so many other languages, but as [symbols](https://stackoverflow.com/questions/23480722/what-is-a-symbol-in-julia). This means that DataFrame columns can be accessed using labels in two ways: either through normal slicing with bracket notation, or by accessing them as an attribute of the `DataFrame` class. The bracket notation is as one would expect:"
   ]
  },
  {
   "cell_type": "code",
   "execution_count": 23,
   "metadata": {},
   "outputs": [
    {
     "data": {
      "text/plain": [
       "6-element Array{String,1}:\n",
       " \"F\"\n",
       " \"M\"\n",
       " \"M\"\n",
       " \"F\"\n",
       " \"M\"\n",
       " \"F\""
      ]
     },
     "execution_count": 23,
     "metadata": {},
     "output_type": "execute_result"
    }
   ],
   "source": [
    "df[:Sex]"
   ]
  },
  {
   "cell_type": "markdown",
   "metadata": {},
   "source": [
    "To access columns as class attributes, use the dot notation that Julia provides to access attributes of any class:"
   ]
  },
  {
   "cell_type": "code",
   "execution_count": 24,
   "metadata": {},
   "outputs": [
    {
     "data": {
      "text/plain": [
       "6-element Array{String,1}:\n",
       " \"F\"\n",
       " \"M\"\n",
       " \"M\"\n",
       " \"F\"\n",
       " \"M\"\n",
       " \"F\""
      ]
     },
     "execution_count": 24,
     "metadata": {},
     "output_type": "execute_result"
    }
   ],
   "source": [
    "df.Sex"
   ]
  },
  {
   "cell_type": "markdown",
   "metadata": {},
   "source": [
    "## Exercises\n",
    "\n",
    "**Exercise 1.1.1:** Construct a DataFrame that encodes the following data table:\n",
    "\n",
    "| Name | Year | Midterm Grade |\n",
    "|-----|-----|-----|\n",
    "| Jen | Sophomore | 93 |\n",
    "| Neil | Junior | 88 |\n",
    "| Lea | Junior | 86 |\n",
    "| Richard | Sophomore | 75 |\n",
    "| Penelope | Sophomore | 78 |\n",
    "\n",
    "_Hint_: Remember that you can include underscores in symbols using the `:a_b` notation, or you can create a symbol from a string using `Symbol(\"A String\")`.\n",
    "\n",
    "**Exercise 1.1.2:** Create a `DataFrameRow` object that contains Lea's midterm information.\n",
    "\n",
    "**Exercise 1.1.3:** Using the function `Statistics.mean`, compute the mean of the midterm scores. Do not hardcode the answer, but use a function which accepts an array."
   ]
  }
 ],
 "metadata": {
  "kernelspec": {
   "display_name": "Julia 1.1.0",
   "language": "julia",
   "name": "julia-1.1"
  },
  "language_info": {
   "file_extension": ".jl",
   "mimetype": "application/julia",
   "name": "julia",
   "version": "1.1.0"
  }
 },
 "nbformat": 4,
 "nbformat_minor": 2
}
