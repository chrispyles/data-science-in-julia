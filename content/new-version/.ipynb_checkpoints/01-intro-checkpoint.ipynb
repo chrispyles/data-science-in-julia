{
 "cells": [
  {
   "cell_type": "markdown",
   "metadata": {},
   "source": [
    "# Data Science in Julia\n",
    "\n",
    "_by [Christopher Pyles](https://cpyles.com)_\n",
    "\n",
    "When I first learned Julia, in a course oriented towards understanding how it could be used in mathematical applications, I thought about how it could be used in."
   ]
  }
 ],
 "metadata": {
  "kernelspec": {
   "display_name": "Julia 1.1.0",
   "language": "julia",
   "name": "julia-1.1"
  },
  "language_info": {
   "file_extension": ".jl",
   "mimetype": "application/julia",
   "name": "julia",
   "version": "1.1.0"
  }
 },
 "nbformat": 4,
 "nbformat_minor": 2
}
